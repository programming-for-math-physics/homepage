{
 "cells": [
  {
   "cell_type": "markdown",
   "metadata": {},
   "source": [
    "# 1-1"
   ]
  },
  {
   "cell_type": "code",
   "execution_count": 1,
   "metadata": {
    "collapsed": true
   },
   "outputs": [],
   "source": [
    "def inner(a, b, c, d):\n",
    "    return a * c + b * d"
   ]
  },
  {
   "cell_type": "code",
   "execution_count": 2,
   "metadata": {},
   "outputs": [
    {
     "data": {
      "text/plain": [
       "11"
      ]
     },
     "execution_count": 2,
     "metadata": {},
     "output_type": "execute_result"
    }
   ],
   "source": [
    "inner(1,2,3,4)"
   ]
  },
  {
   "cell_type": "markdown",
   "metadata": {},
   "source": [
    "# 1-2"
   ]
  },
  {
   "cell_type": "code",
   "execution_count": 8,
   "metadata": {
    "collapsed": true
   },
   "outputs": [],
   "source": [
    "import math"
   ]
  },
  {
   "cell_type": "code",
   "execution_count": 9,
   "metadata": {
    "collapsed": true
   },
   "outputs": [],
   "source": [
    "def solve_q(a, b, c):\n",
    "    D = b * b - 4 * a * c\n",
    "    return (-b + math.sqrt(D)) / (2.0 * a)"
   ]
  },
  {
   "cell_type": "code",
   "execution_count": 10,
   "metadata": {
    "collapsed": true
   },
   "outputs": [],
   "source": [
    "def check_q(a, b, c):\n",
    "    x = solve_q(a, b, c)\n",
    "    y = a * x * x + b * x + c\n",
    "    return abs(y) < 1.0e-5"
   ]
  },
  {
   "cell_type": "code",
   "execution_count": 13,
   "metadata": {},
   "outputs": [
    {
     "data": {
      "text/plain": [
       "True"
      ]
     },
     "execution_count": 13,
     "metadata": {},
     "output_type": "execute_result"
    }
   ],
   "source": [
    "check_q(1,7,3)\n",
    "check_q(2,7,3)"
   ]
  },
  {
   "cell_type": "markdown",
   "metadata": {},
   "source": [
    "# 1-3"
   ]
  },
  {
   "cell_type": "code",
   "execution_count": null,
   "metadata": {
    "collapsed": true
   },
   "outputs": [],
   "source": [
    "def dist_lp(a, b, c, p, q):\n",
    "    s = a * p + b * q + c\n",
    "    t = math.sqrt(a * a + b * b)\n",
    "    return s / t"
   ]
  },
  {
   "cell_type": "code",
   "execution_count": 29,
   "metadata": {
    "scrolled": true
   },
   "outputs": [
    {
     "data": {
      "text/plain": [
       "1.0"
      ]
     },
     "execution_count": 29,
     "metadata": {},
     "output_type": "execute_result"
    }
   ],
   "source": [
    "dist_lp(3,4,5,0,0)"
   ]
  },
  {
   "cell_type": "markdown",
   "metadata": {},
   "source": [
    "# 1-4"
   ]
  },
  {
   "cell_type": "code",
   "execution_count": 5,
   "metadata": {
    "collapsed": true
   },
   "outputs": [],
   "source": [
    "def f(x):\n",
    "    return math.e - (1 + 1.0/x) ** x"
   ]
  },
  {
   "cell_type": "code",
   "execution_count": 6,
   "metadata": {
    "collapsed": true
   },
   "outputs": [],
   "source": [
    "def g(x):\n",
    "    return (1 + 1.0/x) ** (x + 0.5) - math.e"
   ]
  },
  {
   "cell_type": "code",
   "execution_count": 14,
   "metadata": {},
   "outputs": [
    {
     "data": {
      "text/plain": [
       "1.359126674760347e-05"
      ]
     },
     "execution_count": 14,
     "metadata": {},
     "output_type": "execute_result"
    }
   ],
   "source": [
    "f(1.0e5)"
   ]
  },
  {
   "cell_type": "code",
   "execution_count": 15,
   "metadata": {},
   "outputs": [
    {
     "data": {
      "text/plain": [
       "1.3432696333026684e-07"
      ]
     },
     "execution_count": 15,
     "metadata": {},
     "output_type": "execute_result"
    }
   ],
   "source": [
    "f(1.0e7)"
   ]
  },
  {
   "cell_type": "code",
   "execution_count": 17,
   "metadata": {},
   "outputs": [
    {
     "data": {
      "text/plain": [
       "-2.2355251516614771e-07"
      ]
     },
     "execution_count": 17,
     "metadata": {},
     "output_type": "execute_result"
    }
   ],
   "source": [
    "f(1.0e9)"
   ]
  },
  {
   "cell_type": "markdown",
   "metadata": {},
   "source": [
    "# 1-5"
   ]
  },
  {
   "cell_type": "code",
   "execution_count": 18,
   "metadata": {
    "collapsed": true
   },
   "outputs": [],
   "source": [
    "def h(a):\n",
    "    dx = 1.0e-9\n",
    "    return (math.log(a + dx) - math.log(a)) / dx"
   ]
  },
  {
   "cell_type": "code",
   "execution_count": 19,
   "metadata": {},
   "outputs": [
    {
     "data": {
      "text/plain": [
       "1.000000082240371"
      ]
     },
     "execution_count": 19,
     "metadata": {},
     "output_type": "execute_result"
    }
   ],
   "source": [
    "h(1.0)"
   ]
  },
  {
   "cell_type": "code",
   "execution_count": 20,
   "metadata": {},
   "outputs": [
    {
     "data": {
      "text/plain": [
       "0.05000000413701855"
      ]
     },
     "execution_count": 20,
     "metadata": {},
     "output_type": "execute_result"
    }
   ],
   "source": [
    "h(20.0)"
   ]
  },
  {
   "cell_type": "markdown",
   "metadata": {},
   "source": [
    "# 1-6"
   ]
  },
  {
   "cell_type": "code",
   "execution_count": 25,
   "metadata": {
    "collapsed": true
   },
   "outputs": [],
   "source": [
    "def deriv(f, a):\n",
    "    dx = 1.0e-9\n",
    "    return (f(a + dx) - f(a)) / dx"
   ]
  },
  {
   "cell_type": "code",
   "execution_count": 26,
   "metadata": {},
   "outputs": [
    {
     "data": {
      "text/plain": [
       "1.000000082240371"
      ]
     },
     "execution_count": 26,
     "metadata": {},
     "output_type": "execute_result"
    }
   ],
   "source": [
    "deriv(math.log, 1.0)"
   ]
  },
  {
   "cell_type": "code",
   "execution_count": 27,
   "metadata": {},
   "outputs": [
    {
     "data": {
      "text/plain": [
       "0.05000000413701855"
      ]
     },
     "execution_count": 27,
     "metadata": {},
     "output_type": "execute_result"
    }
   ],
   "source": [
    "deriv(math.log, 20.0)"
   ]
  },
  {
   "cell_type": "markdown",
   "metadata": {},
   "source": [
    "# 1-7"
   ]
  },
  {
   "cell_type": "code",
   "execution_count": 21,
   "metadata": {
    "collapsed": true
   },
   "outputs": [],
   "source": [
    "def proot(n):\n",
    "    theta = 2.0 * math.pi / n\n",
    "    return math.cos(theta) + 1.0j * math.sin(theta)"
   ]
  },
  {
   "cell_type": "code",
   "execution_count": 22,
   "metadata": {
    "collapsed": true
   },
   "outputs": [],
   "source": [
    "def check_proot(n):\n",
    "    z = proot(n)\n",
    "    return abs(z ** n - 1.0)"
   ]
  },
  {
   "cell_type": "code",
   "execution_count": 23,
   "metadata": {},
   "outputs": [
    {
     "data": {
      "text/plain": [
       "6.684427777288335e-16"
      ]
     },
     "execution_count": 23,
     "metadata": {},
     "output_type": "execute_result"
    }
   ],
   "source": [
    "check_proot(7)"
   ]
  },
  {
   "cell_type": "code",
   "execution_count": 24,
   "metadata": {},
   "outputs": [
    {
     "data": {
      "text/plain": [
       "2.8951074449790722e-15"
      ]
     },
     "execution_count": 24,
     "metadata": {},
     "output_type": "execute_result"
    }
   ],
   "source": [
    "check_proot(30)"
   ]
  },
  {
   "cell_type": "markdown",
   "metadata": {},
   "source": [
    "# 2-1"
   ]
  },
  {
   "cell_type": "code",
   "execution_count": 30,
   "metadata": {},
   "outputs": [
    {
     "name": "stderr",
     "output_type": "stream",
     "text": [
      "/usr/lib/python2.7/dist-packages/visual/materials.py:70: FutureWarning: comparison to `None` will result in an elementwise object comparison in the future.\n",
      "  self.__setattr__(key, value)\n"
     ]
    }
   ],
   "source": [
    "from visual import *\n",
    "\n",
    "def axes():\n",
    "    x = arrow(axis=(1,0,0), color=color.red)\n",
    "    y = arrow(axis=(0,1,0), color=color.blue)\n",
    "    z = arrow(axis=(0,0,1), color=color.yellow)"
   ]
  },
  {
   "cell_type": "code",
   "execution_count": 32,
   "metadata": {
    "collapsed": true
   },
   "outputs": [],
   "source": [
    "axes()"
   ]
  },
  {
   "cell_type": "markdown",
   "metadata": {},
   "source": [
    "# 2-2"
   ]
  },
  {
   "cell_type": "code",
   "execution_count": 2,
   "metadata": {},
   "outputs": [
    {
     "name": "stderr",
     "output_type": "stream",
     "text": [
      "/usr/lib/python2.7/dist-packages/visual/materials.py:70: FutureWarning: comparison to `None` will result in an elementwise object comparison in the future.\n",
      "  self.__setattr__(key, value)\n"
     ]
    }
   ],
   "source": [
    "from visual import *\n",
    "\n",
    "def mass_spring():\n",
    "    h = 10\n",
    "    r = 0.5\n",
    "    b = sphere()\n",
    "    s = helix(pos=(0,h,0), axis=(0,-h,0), radius=r, thickness=r/4.0)\n",
    "    ceil = box(pos=(0,h,0), length=10, height=0.1, width=10)\n"
   ]
  },
  {
   "cell_type": "code",
   "execution_count": 3,
   "metadata": {},
   "outputs": [],
   "source": [
    "mass_spring()"
   ]
  },
  {
   "cell_type": "markdown",
   "metadata": {},
   "source": [
    "# 2-3"
   ]
  },
  {
   "cell_type": "code",
   "execution_count": 1,
   "metadata": {},
   "outputs": [
    {
     "name": "stderr",
     "output_type": "stream",
     "text": [
      "/usr/lib/python2.7/dist-packages/visual/materials.py:70: FutureWarning: comparison to `None` will result in an elementwise object comparison in the future.\n",
      "  self.__setattr__(key, value)\n"
     ]
    }
   ],
   "source": [
    "from visual import *\n",
    "\n",
    "def methane():\n",
    "    a = 10.0\n",
    "    H1 = vector(0,a,a)\n",
    "    H2 = vector(a,0,a)\n",
    "    H3 = vector(a,a,0)\n",
    "    H4 = vector(0,0,0)\n",
    "    C  = vector(a/2,a/2,a/2)\n",
    "    r = 0.3\n",
    "    sphere(pos=H1)\n",
    "    sphere(pos=H2)\n",
    "    sphere(pos=H3)\n",
    "    sphere(pos=H4)\n",
    "    sphere(pos=C)\n",
    "    cylinder(pos=C, axis=H1-C, radius=r)\n",
    "    cylinder(pos=C, axis=H2-C, radius=r)\n",
    "    cylinder(pos=C, axis=H3-C, radius=r)\n",
    "    cylinder(pos=C, axis=H4-C, radius=r)\n"
   ]
  },
  {
   "cell_type": "code",
   "execution_count": 5,
   "metadata": {},
   "outputs": [],
   "source": [
    "methane()"
   ]
  },
  {
   "cell_type": "markdown",
   "metadata": {},
   "source": [
    "sphere, cylinderを何度も呼ぶところを，繰り返し(for)を使って以下のように書くことも出来ます"
   ]
  },
  {
   "cell_type": "code",
   "execution_count": 4,
   "metadata": {},
   "outputs": [
    {
     "name": "stderr",
     "output_type": "stream",
     "text": [
      "/usr/lib/python2.7/dist-packages/visual/materials.py:70: FutureWarning: comparison to `None` will result in an elementwise object comparison in the future.\n",
      "  self.__setattr__(key, value)\n"
     ]
    }
   ],
   "source": [
    "from visual import *\n",
    "def methane():\n",
    "    a = 10.0\n",
    "    H1 = vector(0,a,a)\n",
    "    H2 = vector(a,0,a)\n",
    "    H3 = vector(a,a,0)\n",
    "    H4 = vector(0,0,0)\n",
    "    C  = vector(a/2,a/2,a/2)\n",
    "    r = 0.3\n",
    "    for p in [ H1, H2, H3, H4, C ]:\n",
    "        sphere(pos=p)\n",
    "    for p in [ H1, H2, H3, H4 ]:\n",
    "        cylinder(pos=C, axis=p-C, radius=r)"
   ]
  },
  {
   "cell_type": "markdown",
   "metadata": {},
   "source": [
    "# 2-4"
   ]
  },
  {
   "cell_type": "code",
   "execution_count": 3,
   "metadata": {},
   "outputs": [
    {
     "name": "stderr",
     "output_type": "stream",
     "text": [
      "/usr/lib/python2.7/dist-packages/visual/materials.py:70: FutureWarning: comparison to `None` will result in an elementwise object comparison in the future.\n",
      "  self.__setattr__(key, value)\n"
     ]
    }
   ],
   "source": [
    "from visual import *\n",
    "\n",
    "def area(A, B, C):\n",
    "    b = B - A\n",
    "    c = C - A\n",
    "    return 0.5 * math.sqrt(b.dot(b) * c.dot(c) - (b.dot(c))**2)\n",
    "\n",
    "def intersect_xy(A, B):\n",
    "    b = B - A\n",
    "    t = - A.z / b.z\n",
    "    return A + b * t\n",
    "\n",
    "def S(a):\n",
    "    P1 = vector(1,0,1)\n",
    "    P2 = vector(1,1,1)\n",
    "    P3 = vector(1,0,3)\n",
    "    Q = vector(0,0,a)\n",
    "    R1 = intersect_xy(P1, Q)\n",
    "    R2 = intersect_xy(P2, Q)\n",
    "    R3 = intersect_xy(P3, Q)\n",
    "    return area(R1, R2, R3)\n"
   ]
  },
  {
   "cell_type": "code",
   "execution_count": 4,
   "metadata": {},
   "outputs": [
    {
     "data": {
      "text/plain": [
       "4.0"
      ]
     },
     "execution_count": 4,
     "metadata": {},
     "output_type": "execute_result"
    }
   ],
   "source": [
    "S(2.0)"
   ]
  },
  {
   "cell_type": "markdown",
   "metadata": {},
   "source": [
    "# 3-1"
   ]
  },
  {
   "cell_type": "code",
   "execution_count": 5,
   "metadata": {},
   "outputs": [
    {
     "data": {
      "text/plain": [
       "5.000000000000001"
      ]
     },
     "execution_count": 5,
     "metadata": {},
     "output_type": "execute_result"
    }
   ],
   "source": [
    "def a(c, n):\n",
    "    x = c\n",
    "    for i in range(n):\n",
    "        x = (2 * x + c / (x * x)) / 3.0\n",
    "    return x"
   ]
  },
  {
   "cell_type": "code",
   "execution_count": 6,
   "metadata": {},
   "outputs": [
    {
     "data": {
      "text/plain": [
       "5.000000000000001"
      ]
     },
     "execution_count": 6,
     "metadata": {},
     "output_type": "execute_result"
    }
   ],
   "source": [
    "a(5, 100000) ** 3"
   ]
  },
  {
   "cell_type": "markdown",
   "metadata": {},
   "source": [
    "# 3-2"
   ]
  },
  {
   "cell_type": "code",
   "execution_count": 11,
   "metadata": {
    "collapsed": true
   },
   "outputs": [],
   "source": [
    "def integrate(f, a, b, n):\n",
    "    s = 0.0\n",
    "    dx = (b - a) / n\n",
    "    x = a\n",
    "    for i in range(n):\n",
    "        s = s + f(x) * dx\n",
    "        x = x + dx\n",
    "    return s"
   ]
  },
  {
   "cell_type": "code",
   "execution_count": 12,
   "metadata": {
    "collapsed": true
   },
   "outputs": [],
   "source": [
    "def circ(x):\n",
    "    return math.sqrt(1.0 - x * x)"
   ]
  },
  {
   "cell_type": "code",
   "execution_count": 13,
   "metadata": {},
   "outputs": [
    {
     "data": {
      "text/plain": [
       "0.7853986631005778"
      ]
     },
     "execution_count": 13,
     "metadata": {},
     "output_type": "execute_result"
    }
   ],
   "source": [
    "integrate(circ, 0.0, 1.0, 1000000)"
   ]
  },
  {
   "cell_type": "markdown",
   "metadata": {},
   "source": [
    "# 3-3"
   ]
  },
  {
   "cell_type": "code",
   "execution_count": 14,
   "metadata": {
    "collapsed": true
   },
   "outputs": [],
   "source": [
    "def acute_abc(a, b, c):\n",
    "    if a + b <= c:\n",
    "        return 0\n",
    "    if a + c <= b:\n",
    "        return 0\n",
    "    if b + c <= a:\n",
    "        return 0\n",
    "    if a*a + b*b > c*c:\n",
    "        return 1\n",
    "    if a*a + c*c > b*b:\n",
    "        return 1\n",
    "    if b*b + c*c > a*a:\n",
    "        return 1\n",
    "    return 0"
   ]
  },
  {
   "cell_type": "code",
   "execution_count": 15,
   "metadata": {
    "collapsed": true
   },
   "outputs": [],
   "source": [
    "def acute_z(z):\n",
    "    a = (z - 1).mag\n",
    "    b = (z*z - 1).mag\n",
    "    c = (z*z - z).mag\n",
    "    return acute_abc(z)"
   ]
  },
  {
   "cell_type": "markdown",
   "metadata": {},
   "source": [
    "# 3-4"
   ]
  },
  {
   "cell_type": "code",
   "execution_count": 16,
   "metadata": {
    "collapsed": true
   },
   "outputs": [],
   "source": [
    "def area(A, B, C):\n",
    "    b = B - A\n",
    "    c = C - A\n",
    "    return 0.5 * math.sqrt(b.dot(b) * c.dot(c) - (b.dot(c))**2)\n",
    "\n",
    "def intersect_xy(A, B):\n",
    "    b = B - A\n",
    "    t = - A.z / b.z\n",
    "    return A + b * t\n",
    "\n",
    "def S(a):\n",
    "    P1 = vector(1,0,1)\n",
    "    P2 = vector(1,1,1)\n",
    "    P3 = vector(1,0,3)\n",
    "    Q = vector(0,0,a)\n",
    "    R1 = intersect_xy(P1, Q)\n",
    "    R2 = intersect_xy(P2, Q)\n",
    "    R3 = intersect_xy(P3, Q)\n",
    "    return area(R1, R2, R3)\n",
    "\n",
    "\n",
    "def min_S():\n",
    "    n = 100000\n",
    "    m = 1\n",
    "    for i in range(2, n):\n",
    "        x = 1 + 2.0 * i / float(n)\n",
    "        y = 1 + 2.0 * m / float(n)\n",
    "        if S(x) < S(y):\n",
    "            m = i\n",
    "    return 1 + 2.0 * m / float(n)\n"
   ]
  },
  {
   "cell_type": "code",
   "execution_count": 17,
   "metadata": {},
   "outputs": [
    {
     "data": {
      "text/plain": [
       "2.0"
      ]
     },
     "execution_count": 17,
     "metadata": {},
     "output_type": "execute_result"
    }
   ],
   "source": [
    "min_S()"
   ]
  },
  {
   "cell_type": "markdown",
   "metadata": {},
   "source": [
    "# 3-5"
   ]
  },
  {
   "cell_type": "code",
   "execution_count": 20,
   "metadata": {
    "collapsed": true
   },
   "outputs": [],
   "source": [
    "def newton(f, c, eps):\n",
    "    def deriv_f(x):\n",
    "        h = 1.0e-7\n",
    "        return (f(x+h) - f(x)) / h\n",
    "    a = c\n",
    "    for i in range(100000):\n",
    "        if abs(f(a)) < eps:\n",
    "            return a\n",
    "        a = a - f(a) / deriv_f(a)\n",
    "    return a\n",
    "\n",
    "def poly(x):\n",
    "    return (x - 2) * (x - 3) * (x - 4)"
   ]
  },
  {
   "cell_type": "code",
   "execution_count": 21,
   "metadata": {},
   "outputs": [
    {
     "data": {
      "text/plain": [
       "4.0000000000000355"
      ]
     },
     "execution_count": 21,
     "metadata": {},
     "output_type": "execute_result"
    }
   ],
   "source": [
    "newton(poly, 100.0, 1.0e-10)"
   ]
  },
  {
   "cell_type": "code",
   "execution_count": 23,
   "metadata": {},
   "outputs": [
    {
     "data": {
      "text/plain": [
       "0.9999999999996179"
      ]
     },
     "execution_count": 23,
     "metadata": {},
     "output_type": "execute_result"
    }
   ],
   "source": [
    "newton(math.log, 0.1, 1.0e-10)"
   ]
  },
  {
   "cell_type": "code",
   "execution_count": 24,
   "metadata": {},
   "outputs": [
    {
     "data": {
      "text/plain": [
       "9.424777960767841"
      ]
     },
     "execution_count": 24,
     "metadata": {},
     "output_type": "execute_result"
    }
   ],
   "source": [
    "newton(math.sin, 10.0, 1.0e-10)"
   ]
  },
  {
   "cell_type": "code",
   "execution_count": 25,
   "metadata": {},
   "outputs": [
    {
     "data": {
      "text/plain": [
       "9.42477796076938"
      ]
     },
     "execution_count": 25,
     "metadata": {},
     "output_type": "execute_result"
    }
   ],
   "source": [
    "3.0 * math.pi"
   ]
  },
  {
   "cell_type": "markdown",
   "metadata": {},
   "source": [
    "# 4-1"
   ]
  },
  {
   "cell_type": "code",
   "execution_count": 28,
   "metadata": {
    "collapsed": true
   },
   "outputs": [],
   "source": [
    "def ode_solve(f, a, b, c):\n",
    "    x = a\n",
    "    y = c\n",
    "    n = 1000000\n",
    "    h = (b - a) / n\n",
    "    for i in range(n):\n",
    "        y = y + f(x, y) * h\n",
    "        x = x + h\n",
    "    return y\n",
    "\n",
    "def f(x, y):\n",
    "    return 1.0 / y"
   ]
  },
  {
   "cell_type": "code",
   "execution_count": 27,
   "metadata": {},
   "outputs": [
    {
     "data": {
      "text/plain": [
       "2.0000002599303053"
      ]
     },
     "execution_count": 27,
     "metadata": {},
     "output_type": "execute_result"
    }
   ],
   "source": [
    "ode_solve(f, 1.0, 2.5, 1.0)"
   ]
  },
  {
   "cell_type": "code",
   "execution_count": 29,
   "metadata": {},
   "outputs": [
    {
     "data": {
      "text/plain": [
       "3.0000007324088616"
      ]
     },
     "execution_count": 29,
     "metadata": {},
     "output_type": "execute_result"
    }
   ],
   "source": [
    "ode_solve(f, 1.0, 5.0, 1.0)"
   ]
  },
  {
   "cell_type": "markdown",
   "metadata": {},
   "source": [
    "# 4-2"
   ]
  },
  {
   "cell_type": "code",
   "execution_count": 3,
   "metadata": {},
   "outputs": [],
   "source": [
    "from visual import *\n",
    "\n",
    "def point_mass(x0, v0, T):\n",
    "    xy = box(length=200.0, height=1.0, width=50.0)\n",
    "    s = sphere(pos=x0, radius=5, color=color.red)\n",
    "    s.vel = v0\n",
    "    dt = 1.0 / 30\n",
    "    g = vector(0.0, -9.8, 0.0)\n",
    "    scene.autocenter = 0\n",
    "    while s.pos.y >= 0.0:\n",
    "        rate(1.0 / dt)\n",
    "        alpha = g - s.vel * 0.5\n",
    "        s.vel = s.vel + alpha * dt\n",
    "        s.pos = s.pos + s.vel * dt\n",
    "    print s.pos.x\n"
   ]
  },
  {
   "cell_type": "code",
   "execution_count": 4,
   "metadata": {
    "collapsed": true
   },
   "outputs": [],
   "source": [
    "def run(theta):\n",
    "    v = 50.0\n",
    "    vx = v * math.cos(theta)\n",
    "    vy = v * math.sin(theta)\n",
    "    point_mass(vector(0,0,0), vector(vx,vy,0), 10.0)\n",
    "\n"
   ]
  },
  {
   "cell_type": "code",
   "execution_count": 5,
   "metadata": {},
   "outputs": [
    {
     "name": "stdout",
     "output_type": "stream",
     "text": [
      "64.2184031375\n"
     ]
    }
   ],
   "source": [
    "run(math.pi / 4.0)"
   ]
  },
  {
   "cell_type": "markdown",
   "metadata": {},
   "source": [
    "# 5-1"
   ]
  },
  {
   "cell_type": "code",
   "execution_count": 1,
   "metadata": {},
   "outputs": [
    {
     "name": "stderr",
     "output_type": "stream",
     "text": [
      "/usr/lib/python2.7/dist-packages/visual/materials.py:70: FutureWarning: comparison to `None` will result in an elementwise object comparison in the future.\n",
      "  self.__setattr__(key, value)\n"
     ]
    }
   ],
   "source": [
    "from visual import *\n",
    "\n",
    "def point_mass(x0, v0, T):\n",
    "    xy = box(length=200.0, height=1.0, width=50.0)\n",
    "    s = sphere(pos=x0, radius=5, color=color.red)\n",
    "    s.vel = v0\n",
    "    n = 10000\n",
    "    dt = T / n\n",
    "    g = vector(0.0, -9.8, 0.0)\n",
    "    scene.autocenter = 0\n",
    "    while s.pos.y >= 0.0:\n",
    "        rate(1.0 / dt)\n",
    "        alpha = g - s.vel * 0.5\n",
    "        s.vel = s.vel + alpha * dt\n",
    "        s.pos = s.pos + s.vel * dt\n",
    "    print s.pos.x\n",
    "\n",
    "def run5_1(theta):\n",
    "    v = 50.0\n",
    "    vx = v * math.cos(theta)\n",
    "    vy = v * math.sin(theta)\n",
    "    point_mass(vector(0,0,0), vector(vx,vy,0), 10.0)\n"
   ]
  },
  {
   "cell_type": "code",
   "execution_count": null,
   "metadata": {
    "collapsed": true
   },
   "outputs": [],
   "source": []
  }
 ],
 "metadata": {
  "kernelspec": {
   "display_name": "Python 2",
   "language": "python",
   "name": "python2"
  },
  "language_info": {
   "codemirror_mode": {
    "name": "ipython",
    "version": 3
   },
   "file_extension": ".py",
   "mimetype": "text/x-python",
   "name": "python",
   "nbconvert_exporter": "python",
   "pygments_lexer": "ipython3",
   "version": "3.6.5"
  }
 },
 "nbformat": 4,
 "nbformat_minor": 1
}
