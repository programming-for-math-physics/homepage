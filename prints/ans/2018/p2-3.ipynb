{
 "cells": [
  {
   "cell_type": "markdown",
   "metadata": {},
   "source": [
    "# 2-3"
   ]
  },
  {
   "cell_type": "code",
   "execution_count": null,
   "metadata": {},
   "outputs": [],
   "source": [
    "from vpython import *\n",
    "\n",
    "def methane():\n",
    "    a = 10.0\n",
    "    H1 = vector(0,a,a)\n",
    "    H2 = vector(a,0,a)\n",
    "    H3 = vector(a,a,0)\n",
    "    H4 = vector(0,0,0)\n",
    "    C  = vector(a/2,a/2,a/2)\n",
    "    r = 0.3\n",
    "    sphere(pos=H1)\n",
    "    sphere(pos=H2)\n",
    "    sphere(pos=H3)\n",
    "    sphere(pos=H4)\n",
    "    sphere(pos=C)\n",
    "    cylinder(pos=C, axis=H1-C, radius=r)\n",
    "    cylinder(pos=C, axis=H2-C, radius=r)\n",
    "    cylinder(pos=C, axis=H3-C, radius=r)\n",
    "    cylinder(pos=C, axis=H4-C, radius=r)\n",
    "\n",
    "methane()"
   ]
  },
  {
   "cell_type": "markdown",
   "metadata": {},
   "source": [
    "sphere, cylinderを何度も呼ぶところを，繰り返し(for)を使って以下のように書くことも出来ます"
   ]
  },
  {
   "cell_type": "code",
   "execution_count": null,
   "metadata": {},
   "outputs": [],
   "source": [
    "from vpython import *\n",
    "def methane():\n",
    "    a = 10.0\n",
    "    H1 = vector(0,a,a)\n",
    "    H2 = vector(a,0,a)\n",
    "    H3 = vector(a,a,0)\n",
    "    H4 = vector(0,0,0)\n",
    "    C  = vector(a/2,a/2,a/2)\n",
    "    r = 0.3\n",
    "    for p in [ H1, H2, H3, H4, C ]:\n",
    "        sphere(pos=p)\n",
    "    for p in [ H1, H2, H3, H4 ]:\n",
    "        cylinder(pos=C, axis=p-C, radius=r)\n",
    "        \n",
    "methane()"
   ]
  },
  {
   "cell_type": "code",
   "execution_count": null,
   "metadata": {},
   "outputs": [],
   "source": []
  }
 ],
 "metadata": {
  "kernelspec": {
   "display_name": "VPython",
   "language": "python",
   "name": "vpython"
  },
  "language_info": {
   "codemirror_mode": {
    "name": "ipython",
    "version": 3
   },
   "file_extension": ".py",
   "mimetype": "text/x-python",
   "name": "python",
   "nbconvert_exporter": "python",
   "pygments_lexer": "ipython3",
   "version": "3.6.5"
  }
 },
 "nbformat": 4,
 "nbformat_minor": 2
}
