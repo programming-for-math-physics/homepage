{
 "cells": [
  {
   "cell_type": "code",
   "execution_count": null,
   "metadata": {},
   "outputs": [],
   "source": [
    "from vpython import *\n",
    "import math\n",
    "\n",
    "def point_mass(x0, v0, T):\n",
    "    xy = box(length=200.0, height=1.0, width=50.0)\n",
    "    s = sphere(pos=x0, radius=5, color=color.red)\n",
    "    s.vel = v0\n",
    "    n = 10000\n",
    "    dt = T / n\n",
    "    g = vector(0.0, -9.8, 0.0)\n",
    "    scene.autocenter = 0\n",
    "    while s.pos.y >= 0.0:\n",
    "        rate(1.0 / dt)\n",
    "        alpha = g - s.vel * 0.5\n",
    "        s.vel = s.vel + alpha * dt\n",
    "        s.pos = s.pos + s.vel * dt\n",
    "    return s.pos.x\n",
    "\n",
    "def run5_1(theta):\n",
    "    v = 50.0\n",
    "    vx = v * math.cos(theta)\n",
    "    vy = v * math.sin(theta)\n",
    "    return point_mass(vector(0,0,0), vector(vx,vy,0), 10.0)\n",
    "\n",
    "run5_1(math.pi/4)"
   ]
  },
  {
   "cell_type": "code",
   "execution_count": null,
   "metadata": {},
   "outputs": [],
   "source": []
  }
 ],
 "metadata": {
  "kernelspec": {
   "display_name": "VPython",
   "language": "python",
   "name": "vpython"
  },
  "language_info": {
   "codemirror_mode": {
    "name": "ipython",
    "version": 3
   },
   "file_extension": ".py",
   "mimetype": "text/x-python",
   "name": "python",
   "nbconvert_exporter": "python",
   "pygments_lexer": "ipython3",
   "version": "3.6.5"
  }
 },
 "nbformat": 4,
 "nbformat_minor": 2
}
