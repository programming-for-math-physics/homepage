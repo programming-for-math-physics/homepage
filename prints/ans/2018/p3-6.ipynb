{
 "cells": [
  {
   "cell_type": "markdown",
   "metadata": {},
   "source": [
    "# 3-6"
   ]
  },
  {
   "cell_type": "code",
   "execution_count": null,
   "metadata": {},
   "outputs": [],
   "source": [
    "def min_root(f, a, b):\n",
    "    n = 10000\n",
    "    h = (b - a) / n\n",
    "    for i in range(n):\n",
    "        x = a + i * h\n",
    "        if f(x) * f(x + h) <= 0:\n",
    "            return x + h\n",
    "    return b + h"
   ]
  },
  {
   "cell_type": "code",
   "execution_count": null,
   "metadata": {},
   "outputs": [],
   "source": [
    "def p(a, b):\n",
    "    def f(x):\n",
    "        return x**3 - 3*a**2*x - b\n",
    "    A = -100\n",
    "    B = 100\n",
    "    x0 = min_root(f, A, B)\n",
    "    if x0 > B: return 0\n",
    "    x1 = min_root(f, x0, B)\n",
    "    if x1 > B: return 0\n",
    "    x2 = min_root(f, x1, B)\n",
    "    if x2 > B: return 0\n",
    "    if x1 > 1:\n",
    "        return 1\n",
    "    else:\n",
    "        return 0"
   ]
  },
  {
   "cell_type": "code",
   "execution_count": null,
   "metadata": {},
   "outputs": [],
   "source": [
    "p(2, -12)"
   ]
  },
  {
   "cell_type": "code",
   "execution_count": null,
   "metadata": {},
   "outputs": [],
   "source": [
    "p(2, 0)"
   ]
  }
 ],
 "metadata": {
  "kernelspec": {
   "display_name": "Python 3",
   "language": "python",
   "name": "python3"
  },
  "language_info": {
   "codemirror_mode": {
    "name": "ipython",
    "version": 3
   },
   "file_extension": ".py",
   "mimetype": "text/x-python",
   "name": "python",
   "nbconvert_exporter": "python",
   "pygments_lexer": "ipython3",
   "version": "3.6.5"
  }
 },
 "nbformat": 4,
 "nbformat_minor": 1
}
