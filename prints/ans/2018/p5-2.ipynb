{
 "cells": [
  {
   "cell_type": "markdown",
   "metadata": {},
   "source": [
    "# 5-2"
   ]
  },
  {
   "cell_type": "code",
   "execution_count": null,
   "metadata": {},
   "outputs": [],
   "source": [
    "from vpython import *\n",
    "import math\n",
    "def point_mass2(m0, x0, v0, m1, x1, v1, T):\n",
    "    n = 1000\n",
    "    dt = T / n\n",
    "    s0 = sphere(pos=x0, vel=v0, mass=m0)\n",
    "    s1 = sphere(pos=x1, vel=v1, mass=m1)\n",
    "    G = 1.0\n",
    "    scene.autocenter=0\n",
    "    for i in range(n):\n",
    "        rate(1/dt)\n",
    "        dx = x1 - x0\n",
    "        r2 = dx.dot(dx)\n",
    "        r = math.sqrt(r2)\n",
    "        f = G * m0 * m1 / r2\n",
    "        a0 = (f/r/s0.mass) * dx\n",
    "        a1 = -(f/r/s1.mass) * dx\n",
    "        s0.pos += s0.vel * dt\n",
    "        s1.pos += s1.vel * dt\n",
    "        s0.vel += a0 * dt\n",
    "        s1.vel += a1 * dt\n",
    "\n",
    "point_mass2(100.0, vector(0,0,0), vector(0,0,0), \n",
    "           1.0, vector(10,0,0), vector(0,0.5,0),\n",
    "           100)"
   ]
  },
  {
   "cell_type": "code",
   "execution_count": null,
   "metadata": {},
   "outputs": [],
   "source": []
  }
 ],
 "metadata": {
  "kernelspec": {
   "display_name": "VPython",
   "language": "python",
   "name": "vpython"
  },
  "language_info": {
   "codemirror_mode": {
    "name": "ipython",
    "version": 3
   },
   "file_extension": ".py",
   "mimetype": "text/x-python",
   "name": "python",
   "nbconvert_exporter": "python",
   "pygments_lexer": "ipython3",
   "version": "3.6.5"
  }
 },
 "nbformat": 4,
 "nbformat_minor": 2
}
