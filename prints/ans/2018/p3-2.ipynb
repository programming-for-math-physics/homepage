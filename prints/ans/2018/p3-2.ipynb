{
 "cells": [
  {
   "cell_type": "markdown",
   "metadata": {},
   "source": [
    "# 3-2"
   ]
  },
  {
   "cell_type": "code",
   "execution_count": null,
   "metadata": {},
   "outputs": [],
   "source": [
    "def prod(a, b):\n",
    "    p = 1\n",
    "    for x in range(a, b+1):\n",
    "        p = p * x\n",
    "    return p\n",
    "\n",
    "def ncr(n, r):\n",
    "    return prod(1, n) / (prod(1, r) * prod(1, n - r))\n",
    "\n",
    "def a(n):\n",
    "    return ncr(2 * n + 1, n) / prod(1, n)\n",
    "print(a(1))\n",
    "print(a(2))\n",
    "print(a(3))\n",
    "print(a(4))\n",
    "print(a(5))"
   ]
  }
 ],
 "metadata": {
  "kernelspec": {
   "display_name": "Python 3",
   "language": "python",
   "name": "python3"
  },
  "language_info": {
   "codemirror_mode": {
    "name": "ipython",
    "version": 3
   },
   "file_extension": ".py",
   "mimetype": "text/x-python",
   "name": "python",
   "nbconvert_exporter": "python",
   "pygments_lexer": "ipython3",
   "version": "3.6.5"
  }
 },
 "nbformat": 4,
 "nbformat_minor": 1
}
