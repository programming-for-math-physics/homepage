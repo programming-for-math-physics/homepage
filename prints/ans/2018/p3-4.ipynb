{
 "cells": [
  {
   "cell_type": "markdown",
   "metadata": {},
   "source": [
    "# 3-4"
   ]
  },
  {
   "cell_type": "code",
   "execution_count": null,
   "metadata": {},
   "outputs": [],
   "source": [
    "def acute_abc(a, b, c):\n",
    "    if a + b <= c:\n",
    "        return 0\n",
    "    if a + c <= b:\n",
    "        return 0\n",
    "    if b + c <= a:\n",
    "        return 0\n",
    "    if a*a + b*b > c*c:\n",
    "        return 1\n",
    "    if a*a + c*c > b*b:\n",
    "        return 1\n",
    "    if b*b + c*c > a*a:\n",
    "        return 1\n",
    "    return 0\n",
    "\n",
    "acute_abc(2, 3, 4)"
   ]
  },
  {
   "cell_type": "code",
   "execution_count": null,
   "metadata": {},
   "outputs": [],
   "source": [
    "def acute_z(z):\n",
    "    a = (z - 1).mag\n",
    "    b = (z*z - 1).mag\n",
    "    c = (z*z - z).mag\n",
    "    return acute_abc(z)"
   ]
  }
 ],
 "metadata": {
  "kernelspec": {
   "display_name": "Python 3",
   "language": "python",
   "name": "python3"
  },
  "language_info": {
   "codemirror_mode": {
    "name": "ipython",
    "version": 3
   },
   "file_extension": ".py",
   "mimetype": "text/x-python",
   "name": "python",
   "nbconvert_exporter": "python",
   "pygments_lexer": "ipython3",
   "version": "3.6.5"
  }
 },
 "nbformat": 4,
 "nbformat_minor": 1
}
