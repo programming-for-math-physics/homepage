{
 "cells": [
  {
   "cell_type": "markdown",
   "metadata": {},
   "source": [
    "# 1-1"
   ]
  },
  {
   "cell_type": "code",
   "execution_count": null,
   "metadata": {},
   "outputs": [],
   "source": [
    "def inner(a, b, c, d):\n",
    "    return a * c + b * d"
   ]
  },
  {
   "cell_type": "code",
   "execution_count": null,
   "metadata": {},
   "outputs": [],
   "source": [
    "inner(1,2,3,4)"
   ]
  },
  {
   "cell_type": "markdown",
   "metadata": {},
   "source": [
    "# 1-2"
   ]
  },
  {
   "cell_type": "code",
   "execution_count": null,
   "metadata": {},
   "outputs": [],
   "source": [
    "import math\n",
    "def f(x):\n",
    "    return x / math.sin(x) + math.cos(x)"
   ]
  },
  {
   "cell_type": "code",
   "execution_count": null,
   "metadata": {},
   "outputs": [],
   "source": [
    "f(1e-3)"
   ]
  },
  {
   "cell_type": "code",
   "execution_count": null,
   "metadata": {},
   "outputs": [],
   "source": [
    "f(math.pi - 1e-3)"
   ]
  },
  {
   "cell_type": "code",
   "execution_count": null,
   "metadata": {},
   "outputs": [],
   "source": [
    "f(math.pi - 1e-4)"
   ]
  },
  {
   "cell_type": "markdown",
   "metadata": {},
   "source": [
    "# 1-3"
   ]
  },
  {
   "cell_type": "code",
   "execution_count": null,
   "metadata": {},
   "outputs": [],
   "source": [
    "def log_prime(a):\n",
    "    h = 1.0e-3\n",
    "    return (math.log(a + h) - math.log(a)) / h"
   ]
  },
  {
   "cell_type": "code",
   "execution_count": null,
   "metadata": {},
   "outputs": [],
   "source": [
    "log_prime(1.0)"
   ]
  },
  {
   "cell_type": "code",
   "execution_count": null,
   "metadata": {
    "scrolled": true
   },
   "outputs": [],
   "source": [
    "log_prime(20.0)"
   ]
  },
  {
   "cell_type": "markdown",
   "metadata": {},
   "source": [
    "# 1-4"
   ]
  },
  {
   "cell_type": "code",
   "execution_count": null,
   "metadata": {},
   "outputs": [],
   "source": [
    "def grad_at(f, a):\n",
    "    h = 1.0e-4\n",
    "    return (f(a + h) - f(a)) / h"
   ]
  },
  {
   "cell_type": "code",
   "execution_count": null,
   "metadata": {},
   "outputs": [],
   "source": [
    "import math\n",
    "grad_at(math.sin, math.pi/3)"
   ]
  },
  {
   "cell_type": "code",
   "execution_count": null,
   "metadata": {},
   "outputs": [],
   "source": [
    "grad_at(math.log, 20)"
   ]
  },
  {
   "cell_type": "code",
   "execution_count": null,
   "metadata": {},
   "outputs": [],
   "source": [
    "def p(x):\n",
    "    return x ** 3 + x ** 2\n",
    "grad_at(p, 2)"
   ]
  },
  {
   "cell_type": "markdown",
   "metadata": {},
   "source": [
    "# 1-5"
   ]
  },
  {
   "cell_type": "code",
   "execution_count": null,
   "metadata": {},
   "outputs": [],
   "source": [
    "def derive(f):\n",
    "    def g(a):\n",
    "        h = 1.0e-4\n",
    "        return (f(a + h) - f(a)) / h\n",
    "    return g\n",
    "\n",
    "sin_prime = derive(math.sin)"
   ]
  },
  {
   "cell_type": "code",
   "execution_count": null,
   "metadata": {},
   "outputs": [],
   "source": [
    "sin_prime(math.pi/4) - math.cos(math.pi/4)"
   ]
  },
  {
   "cell_type": "code",
   "execution_count": null,
   "metadata": {},
   "outputs": [],
   "source": [
    "sin_prime2 = derive(derive(math.sin))"
   ]
  },
  {
   "cell_type": "code",
   "execution_count": null,
   "metadata": {},
   "outputs": [],
   "source": [
    "sin_prime2(math.pi/5) + math.sin(math.pi/5)"
   ]
  },
  {
   "cell_type": "markdown",
   "metadata": {},
   "source": [
    "# 2-1 (別ファイル)"
   ]
  },
  {
   "cell_type": "markdown",
   "metadata": {},
   "source": [
    "# 2-2 (別ファイル)"
   ]
  },
  {
   "cell_type": "markdown",
   "metadata": {},
   "source": [
    "# 2-3 (別ファイル)"
   ]
  },
  {
   "cell_type": "markdown",
   "metadata": {},
   "source": [
    "# 2-4"
   ]
  },
  {
   "cell_type": "code",
   "execution_count": null,
   "metadata": {},
   "outputs": [],
   "source": [
    "from vpython import *\n",
    "import math\n",
    "\n",
    "def area(A, B, C):\n",
    "    b = B - A\n",
    "    c = C - A\n",
    "    return 0.5 * math.sqrt(b.dot(b) * c.dot(c) - (b.dot(c))**2)\n",
    "\n",
    "def intersect_xy(A, B):\n",
    "    b = B - A\n",
    "    t = - A.z / b.z\n",
    "    return A + b * t\n",
    "\n",
    "def S(a):\n",
    "    P1 = vector(1,0,1)\n",
    "    P2 = vector(1,1,1)\n",
    "    P3 = vector(1,0,3)\n",
    "    Q = vector(0,0,a)\n",
    "    R1 = intersect_xy(P1, Q)\n",
    "    R2 = intersect_xy(P2, Q)\n",
    "    R3 = intersect_xy(P3, Q)\n",
    "    return area(R1, R2, R3)\n"
   ]
  },
  {
   "cell_type": "code",
   "execution_count": null,
   "metadata": {},
   "outputs": [],
   "source": [
    "S(2.0)"
   ]
  },
  {
   "cell_type": "markdown",
   "metadata": {},
   "source": [
    "# 3-1"
   ]
  },
  {
   "cell_type": "code",
   "execution_count": null,
   "metadata": {},
   "outputs": [],
   "source": [
    "def a(c, n):\n",
    "    x = c\n",
    "    for i in range(n):\n",
    "        x = (2 * x + c / (x * x)) / 3.0\n",
    "    return x"
   ]
  },
  {
   "cell_type": "code",
   "execution_count": null,
   "metadata": {},
   "outputs": [],
   "source": [
    "a(5, 100000) ** 3"
   ]
  },
  {
   "cell_type": "markdown",
   "metadata": {},
   "source": [
    "# 3-2"
   ]
  },
  {
   "cell_type": "code",
   "execution_count": null,
   "metadata": {},
   "outputs": [],
   "source": [
    "def prod(a, b):\n",
    "    p = 1\n",
    "    for x in range(a, b+1):\n",
    "        p = p * x\n",
    "    return p\n",
    "\n",
    "def ncr(n, r):\n",
    "    return prod(1, n) / (prod(1, r) * prod(1, n - r))\n",
    "\n",
    "def a(n):\n",
    "    return ncr(2 * n + 1, n) / prod(1, n)\n",
    "print(a(1))\n",
    "print(a(2))\n",
    "print(a(3))\n",
    "print(a(4))\n",
    "print(a(5))"
   ]
  },
  {
   "cell_type": "markdown",
   "metadata": {},
   "source": [
    "# 3-3"
   ]
  },
  {
   "cell_type": "code",
   "execution_count": null,
   "metadata": {},
   "outputs": [],
   "source": [
    "def integrate(f, a, b, n):\n",
    "    s = 0.0\n",
    "    dx = (b - a) / n\n",
    "    x = a\n",
    "    for i in range(n):\n",
    "        s = s + f(x) * dx\n",
    "        x = x + dx\n",
    "    return s"
   ]
  },
  {
   "cell_type": "code",
   "execution_count": null,
   "metadata": {},
   "outputs": [],
   "source": [
    "def circ(x):\n",
    "    return math.sqrt(1.0 - x * x)"
   ]
  },
  {
   "cell_type": "code",
   "execution_count": null,
   "metadata": {},
   "outputs": [],
   "source": [
    "integrate(circ, 0.0, 1.0, 1000000)"
   ]
  },
  {
   "cell_type": "markdown",
   "metadata": {},
   "source": [
    "# 3-4"
   ]
  },
  {
   "cell_type": "code",
   "execution_count": null,
   "metadata": {},
   "outputs": [],
   "source": [
    "def acute_abc(a, b, c):\n",
    "    if a + b <= c:\n",
    "        return 0\n",
    "    if a + c <= b:\n",
    "        return 0\n",
    "    if b + c <= a:\n",
    "        return 0\n",
    "    if a*a + b*b > c*c:\n",
    "        return 1\n",
    "    if a*a + c*c > b*b:\n",
    "        return 1\n",
    "    if b*b + c*c > a*a:\n",
    "        return 1\n",
    "    return 0\n",
    "\n",
    "acute_abc(2, 3, 4)"
   ]
  },
  {
   "cell_type": "code",
   "execution_count": null,
   "metadata": {},
   "outputs": [],
   "source": [
    "def acute_z(z):\n",
    "    a = (z - 1).mag\n",
    "    b = (z*z - 1).mag\n",
    "    c = (z*z - z).mag\n",
    "    return acute_abc(z)"
   ]
  },
  {
   "cell_type": "markdown",
   "metadata": {},
   "source": [
    "# 3-5"
   ]
  },
  {
   "cell_type": "code",
   "execution_count": null,
   "metadata": {},
   "outputs": [],
   "source": [
    "def minimize(f, a, b):\n",
    "    n = 10000\n",
    "    h = (b - a) / n\n",
    "    x_min = a\n",
    "    for i in range(n):\n",
    "        x = a + i * h\n",
    "        if f(x) < f(x_min):\n",
    "            x_min = x\n",
    "    return x_min\n",
    "\n",
    "minimize(math.sin, 0, 7)"
   ]
  },
  {
   "cell_type": "code",
   "execution_count": null,
   "metadata": {},
   "outputs": [],
   "source": [
    "minimize(f, 1.0e-4, math.pi - 1.0e-4)"
   ]
  },
  {
   "cell_type": "code",
   "execution_count": null,
   "metadata": {},
   "outputs": [],
   "source": [
    "minimize(S, 1 + 1e-4, 3 - 1e-4)"
   ]
  },
  {
   "cell_type": "markdown",
   "metadata": {},
   "source": [
    "# 3-6"
   ]
  },
  {
   "cell_type": "code",
   "execution_count": null,
   "metadata": {},
   "outputs": [],
   "source": [
    "def min_root(f, a, b):\n",
    "    n = 10000\n",
    "    h = (b - a) / n\n",
    "    for i in range(n):\n",
    "        x = a + i * h\n",
    "        if f(x) * f(x + h) <= 0:\n",
    "            return x + h\n",
    "    return b + h"
   ]
  },
  {
   "cell_type": "code",
   "execution_count": null,
   "metadata": {},
   "outputs": [],
   "source": [
    "def p(a, b):\n",
    "    def f(x):\n",
    "        return x**3 - 3*a**2*x - b\n",
    "    A = -100\n",
    "    B = 100\n",
    "    x0 = min_root(f, A, B)\n",
    "    if x0 > B: return 0\n",
    "    x1 = min_root(f, x0, B)\n",
    "    if x1 > B: return 0\n",
    "    x2 = min_root(f, x1, B)\n",
    "    if x2 > B: return 0\n",
    "    if x1 > 1:\n",
    "        return 1\n",
    "    else:\n",
    "        return 0"
   ]
  },
  {
   "cell_type": "code",
   "execution_count": null,
   "metadata": {},
   "outputs": [],
   "source": [
    "p(2, -12)"
   ]
  },
  {
   "cell_type": "code",
   "execution_count": null,
   "metadata": {},
   "outputs": [],
   "source": [
    "p(2, 0)"
   ]
  },
  {
   "cell_type": "markdown",
   "metadata": {},
   "source": [
    "# 4-1"
   ]
  },
  {
   "cell_type": "code",
   "execution_count": null,
   "metadata": {},
   "outputs": [],
   "source": [
    "def ode_solve(f, a, b, c):\n",
    "    x = a\n",
    "    y = c\n",
    "    n = 1000000\n",
    "    h = (b - a) / n\n",
    "    for i in range(n):\n",
    "        y = y + f(x, y) * h\n",
    "        x = x + h\n",
    "    return y\n",
    "\n",
    "def f(x, y):\n",
    "    return 1.0 / y"
   ]
  },
  {
   "cell_type": "code",
   "execution_count": null,
   "metadata": {},
   "outputs": [],
   "source": [
    "ode_solve(f, 1.0, 2.5, 1.0)"
   ]
  },
  {
   "cell_type": "code",
   "execution_count": null,
   "metadata": {},
   "outputs": [],
   "source": [
    "ode_solve(f, 1.0, 5.0, 1.0)"
   ]
  },
  {
   "cell_type": "markdown",
   "metadata": {},
   "source": [
    "# 5-1 (別ファイル)"
   ]
  },
  {
   "cell_type": "markdown",
   "metadata": {},
   "source": [
    "# 5-2 (別ファイル)"
   ]
  },
  {
   "cell_type": "markdown",
   "metadata": {},
   "source": [
    "# 5-3 (別ファイル)"
   ]
  },
  {
   "cell_type": "markdown",
   "metadata": {},
   "source": [
    "# 5-4 (別ファイル)"
   ]
  },
  {
   "cell_type": "code",
   "execution_count": null,
   "metadata": {},
   "outputs": [],
   "source": []
  }
 ],
 "metadata": {
  "kernelspec": {
   "display_name": "Python 3",
   "language": "python",
   "name": "python3"
  },
  "language_info": {
   "codemirror_mode": {
    "name": "ipython",
    "version": 3
   },
   "file_extension": ".py",
   "mimetype": "text/x-python",
   "name": "python",
   "nbconvert_exporter": "python",
   "pygments_lexer": "ipython3",
   "version": "3.6.5"
  }
 },
 "nbformat": 4,
 "nbformat_minor": 1
}
