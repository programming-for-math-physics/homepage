{
  "cells": [
    {
      "cell_type": "markdown",
      "metadata": {
        "kernel": "Python 3",
        "nbgrader": {
          "grade": false,
          "grade_id": "c-001",
          "locked": true,
          "schema_version": 3,
          "solution": false,
          "task": false
        }
      },
      "source": [
        "\n",
        "# <font color=\"green\"> Problem 1 :  漸化式</font>",
        "\n",
        "実数$a$, $b$, $c$と整数$n$を受取り,\n",
        "\n",
        "$$ \\begin{array}{rcl} x_0 & = & c \\\\ x_n & = & a x_{n-1} + b \\end{array}$$\n",
        "\n",
        "で定まる数列 $\\{x_n\\}$ の 第$n$項 $x_n$を求める関数 linrec(a,b,c,n) を書け.\n",
        ""
      ]
    },
    {
      "cell_type": "code",
      "metadata": {
        "kernel": "Python 3",
        "nbgrader": {
          "grade": false,
          "grade_id": "c-002",
          "locked": true,
          "schema_version": 3,
          "solution": false,
          "task": false
        }
      },
      "source": [
        "def linrec(a, b, c, n):\n",
        "    x = c\n",
        "    for i in range(n):\n",
        "        x = a * x + b\n",
        "    return x"
      ],
      "execution_count": null,
      "outputs": []
    },
    {
      "cell_type": "code",
      "metadata": {
        "kernel": "Python 3",
        "nbgrader": {
          "grade": true,
          "grade_id": "p-001",
          "locked": true,
          "schema_version": 3,
          "solution": true,
          "task": false,
          "points": 1
        }
      },
      "source": [
        "BEGIN SOLUTION\n",
        "END SOLUTION\n",
        "# test\n",
        "# a が1ならただの等差数列\n",
        "assert(linrec(1,1,0,100) == 100), (linrec(1,1,0,100), 100)\n",
        "# b が0ならただの等比数列\n",
        "assert(linrec(3,0,1,10) == 3 ** 10), (linrec(3,0,1,10), 3 ** 10)\n",
        "print(\"OK\")\n",
        "\n",
        "def check_linrec(a, b, c):\n",
        "    # |a| < 1 の場合, ax+b = x の解に収束する\n",
        "    n = 1000000\n",
        "    x_inf = linrec(a, b, c, n)\n",
        "    assert(abs(a * x_inf + b - x_inf) < 1.0e-6), (x_inf, a * x_inf + b)\n",
        "    print(\"OK\")\n",
        "\n",
        "check_linrec(0.875, 1.0, 1.0)"
      ],
      "execution_count": null,
      "outputs": []
    },
    {
      "cell_type": "markdown",
      "metadata": {
        "kernel": "Python 3",
        "nbgrader": {
          "grade": false,
          "grade_id": "c-003",
          "locked": true,
          "schema_version": 3,
          "solution": false,
          "task": false
        }
      },
      "source": [
        "\n",
        "# <font color=\"green\"> Problem 2 :  3乗根</font>",
        "\n",
        "次で定まる数列の第$n$項を計算する関数sqrt3(c, n)を書け．\n",
        "\n",
        "$$ \\begin{array}{rcl}\n",
        "a_0 & = & c, \\\\\n",
        "a_{n+1} & = & \\frac{1}{3} \\left(2a_{n} + \\frac{c}{a_{n}^2}\\right) \\;\\; (n > 0).\n",
        "\\end{array} $$\n",
        "\n",
        "これは$\\sqrt[3]{c}$に収束する数列で, \n",
        "ある程度大きな$n$に対して, \n",
        "a($c$, $n$)を計算すればそれが, $\\sqrt[3]{c}$の近似値となる.\n",
        "\n",
        "a($c$, $n$)を3乗して, 結果がほぼ$c$と同じになるか確かめよ．\n",
        ""
      ]
    },
    {
      "cell_type": "code",
      "metadata": {
        "kernel": "Python 3",
        "nbgrader": {
          "grade": false,
          "grade_id": "c-004",
          "locked": true,
          "schema_version": 3,
          "solution": false,
          "task": false
        }
      },
      "source": [
        "def sqrt3(c, n):\n",
        "    x = c\n",
        "    for i in range(n):\n",
        "        x = (2 * x + c / (x * x)) / 3\n",
        "    return x"
      ],
      "execution_count": null,
      "outputs": []
    },
    {
      "cell_type": "code",
      "metadata": {
        "kernel": "Python 3",
        "nbgrader": {
          "grade": true,
          "grade_id": "p-002",
          "locked": true,
          "schema_version": 3,
          "solution": true,
          "task": false,
          "points": 1
        }
      },
      "source": [
        "BEGIN SOLUTION\n",
        "END SOLUTION\n",
        "# test\n",
        "import math\n",
        "assert(sqrt3(27, 100) == 3), sqrt3(27, 100)\n",
        "assert(math.isclose(sqrt3(10, 100) ** 3, 10)), sqrt3(10, 100)\n",
        "print(\"OK\")"
      ],
      "execution_count": null,
      "outputs": []
    },
    {
      "cell_type": "markdown",
      "metadata": {
        "kernel": "Python 3",
        "nbgrader": {
          "grade": false,
          "grade_id": "c-005",
          "locked": true,
          "schema_version": 3,
          "solution": false,
          "task": false
        }
      },
      "source": [
        "\n",
        "# <font color=\"green\"> Problem 3 :  積分</font>",
        "\n",
        "* 積分\n",
        "$$ \\int_a^b f(x)\\,dx $$\n",
        "の定義は以下のようなものである.\n",
        "\n",
        " * 区間$[a,b]$を$n$分割する. つまり$a = x_0 < x_1 < \\cdots < x_{n-1} < x_n = b$ となるように$x_i$を選ぶ. $x_{i+1} - x_i = \\Delta x_i$ と書く.\n",
        " * そのもとで和\n",
        "$$\\sum_{i=0}^{n-1} f(x_i) \\Delta x_i$$\n",
        "を作る\n",
        " * $|\\Delta x_i| \\rightarrow 0$のとき上記の和が常に一定値$S$に収束するならば, $f$が$[a,b]$で__積分可能__と言って, $S$を求める積分値と定義する\n",
        "\n",
        "* 堅苦しい部分を抜きにすると, 要するに, $[a,b]$を充分細かく分割して, $f(x) \\Delta x$の和を作ればそれが($f$が$[a,b]$で積分可能ならば)積分の近似値になっている, ということである.\n",
        "\n",
        "* 手計算で積分をするとき, 被積分関数の原子関数(微分すると被積分関数になる関数)を発見的に求める必要があったが, 計算機で近似値を計算するときは, 上記の定義式にそのまましたがって, $[a,b]$内に点を多数とり, 実際に上記の和を計算する. 点を取る際も, もっとも単純に$n$等分するのが普通.\n",
        ""
      ]
    },
    {
      "cell_type": "code",
      "metadata": {
        "kernel": "Python 3",
        "nbgrader": {
          "grade": false,
          "grade_id": "c-006",
          "locked": true,
          "schema_version": 3,
          "solution": false,
          "task": false
        }
      },
      "source": [
        "def int_circle(a, b, n):\n",
        "    s = 0\n",
        "    dx = (b - a) / n\n",
        "    for i in range(n):\n",
        "        x = a + i * dx\n",
        "        s += (1-x*x)**0.5 * dx\n",
        "    return s"
      ],
      "execution_count": null,
      "outputs": []
    },
    {
      "cell_type": "code",
      "metadata": {
        "kernel": "Python 3",
        "nbgrader": {
          "grade": true,
          "grade_id": "p-003",
          "locked": true,
          "schema_version": 3,
          "solution": true,
          "task": false,
          "points": 1
        }
      },
      "source": [
        "BEGIN SOLUTION\n",
        "END SOLUTION\n",
        "# test\n",
        "assert(math.isclose(int_circle(0, 1, 100000), math.pi / 4, rel_tol=1.0e-3)), (int_circle(0, 1, 100000), math.pi / 4)\n",
        "print(\"OK\")"
      ],
      "execution_count": null,
      "outputs": []
    },
    {
      "cell_type": "markdown",
      "metadata": {
        "kernel": "Python 3",
        "nbgrader": {
          "grade": false,
          "grade_id": "c-007",
          "locked": true,
          "schema_version": 3,
          "solution": false,
          "task": false
        }
      },
      "source": [
        "\n",
        "# <font color=\"green\"> Problem 4 :  何でも積分できる関数</font>",
        "\n",
        "* 被積分関数$f$と$a$, $b$が与えられたら,\n",
        "\n",
        "$$ \\int_a^b f(x)\\,dx $$\n",
        "\n",
        "の近似値を, $[a,b]$を$n$等分して計算する関数 integral(f, a, b, n) を書け(ただし$f$は$\\leq a \\leq x \\leq b $で定義されているものと仮定して良い.\n",
        ""
      ]
    },
    {
      "cell_type": "code",
      "metadata": {
        "kernel": "Python 3",
        "nbgrader": {
          "grade": false,
          "grade_id": "c-008",
          "locked": true,
          "schema_version": 3,
          "solution": false,
          "task": false
        }
      },
      "source": [
        "def integral(f, a, b, n):\n",
        "    s = 0\n",
        "    dx = (b - a) / n\n",
        "    for i in range(n):\n",
        "        x = a + i * dx\n",
        "        s += f(x) * dx\n",
        "    return s"
      ],
      "execution_count": null,
      "outputs": []
    },
    {
      "cell_type": "code",
      "metadata": {
        "kernel": "Python 3",
        "nbgrader": {
          "grade": true,
          "grade_id": "p-004",
          "locked": true,
          "schema_version": 3,
          "solution": true,
          "task": false,
          "points": 1
        }
      },
      "source": [
        "BEGIN SOLUTION\n",
        "END SOLUTION\n",
        "# test\n",
        "assert(math.isclose(integral(math.sin, 0, math.pi/2, 1000000), 1, rel_tol=1.0e-3)), integral(math.sin, 0, math.pi/2, 1000000)\n",
        "assert(math.isclose(integral(math.exp, 0, 1, 1000000), math.e - 1, rel_tol=1.0e-3)), (integral(math.exp, 0, 1, 1000000), (math.e - 1))\n",
        "\n",
        "def some_func(x):\n",
        "    return x * x * x + x * x + x + 1\n",
        "\n",
        "assert(math.isclose(integral(some_func, 0, 1, 1000000), 2.083331833333774))\n",
        "print(\"OK\")"
      ],
      "execution_count": null,
      "outputs": []
    }
  ],
  "metadata": {
    "celltoolbar": "Create Assignment",
    "kernelspec": {
      "display_name": "Python 3",
      "language": "python",
      "name": "python3"
    },
    "language_info": {
      "codemirror_mode": {
        "name": "ipython",
        "version": 3
      },
      "file_extension": ".py",
      "mimetype": "text/x-python",
      "name": "python",
      "nbconvert_exporter": "python",
      "pygments_lexer": "ipython3",
      "version": "3.8.5"
    }
  },
  "nbformat": 4,
  "nbformat_minor": 4
}