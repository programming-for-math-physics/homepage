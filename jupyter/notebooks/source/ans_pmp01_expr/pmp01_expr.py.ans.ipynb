{
  "cells": [
    {
      "cell_type": "markdown",
      "metadata": {
        "kernel": "Python 3",
        "nbgrader": {
          "grade": false,
          "grade_id": "c-001",
          "locked": true,
          "schema_version": 3,
          "solution": false,
          "task": false
        }
      },
      "source": [
        "\n",
        "# <font color=\"green\"> Problem 1 :  算術式とimportの練習</font>",
        "\n",
        "* https://docs.python.org/ja/3.8/library/math.html を見ながら, 以下を計算する式をPythonで書いて, 実際に答えを出してみよ\n",
        ""
      ]
    },
    {
      "cell_type": "markdown",
      "metadata": {
        "kernel": "Python 3",
        "nbgrader": {
          "grade": false,
          "grade_id": "c-002",
          "locked": true,
          "schema_version": 3,
          "solution": false,
          "task": false
        }
      },
      "source": [
        "* 100の階乗 100! ($= 100 \\cdot 99 \\cdot \\cdots \\cdot 2 \\cdot 1$) は10進数で何桁か?"
      ]
    },
    {
      "cell_type": "code",
      "metadata": {
        "kernel": "Python 3",
        "nbgrader": {
          "grade": false,
          "grade_id": "c-003",
          "locked": true,
          "schema_version": 3,
          "solution": false,
          "task": false
        }
      },
      "source": [
        "math.floor(math.log10(math.factorial(100))) + 1"
      ],
      "execution_count": null,
      "outputs": []
    },
    {
      "cell_type": "markdown",
      "metadata": {
        "kernel": "Python 3",
        "nbgrader": {
          "grade": false,
          "grade_id": "c-004",
          "locked": true,
          "schema_version": 3,
          "solution": false,
          "task": false
        }
      },
      "source": [
        "\n",
        "#  コメント",
        "\n",
        "* 落とし穴1 : `math.log` は $e$ を底とした対数. 10 を底とした対数は, `math.log(x, 10)` とするか, `math.log10(x)`\n",
        "* 細かい落とし穴2: logで発生した小数点をどう処理すれば正しい桁数になるのか?\n",
        "\n",
        "* $x$が$n$桁の整数なのは, $10^{n-1} \\leq x < 10^n$ のとき.\n",
        "$$ \\begin{array}{rcl} 10^{n-1} \\leq x < 10^n & \\iff & n - 1 \\leq \\log_{10} x < n \\end{array} $$\n",
        "* なので一見すると小数点以下を切り上げれば($\\lceil r \\rceil$) ただしく$n$が求まる気がするが, 注意してみると, $\\log_{10} x$がぴったり整数になるときは正しくない\n",
        "* 正しい処理は, 切り捨てた後 1 を足す ($\\lfloor x \\rfloor + 1$) ことである\n",
        ""
      ]
    },
    {
      "cell_type": "markdown",
      "metadata": {
        "kernel": "Python 3",
        "nbgrader": {
          "grade": false,
          "grade_id": "c-005",
          "locked": true,
          "schema_version": 3,
          "solution": false,
          "task": false
        }
      },
      "source": [
        "* 3辺の長さが5, 6, 7の三角形で, 長さ5と6の辺の間の角度は約何度か?"
      ]
    },
    {
      "cell_type": "code",
      "metadata": {
        "kernel": "Python 3",
        "nbgrader": {
          "grade": false,
          "grade_id": "c-006",
          "locked": true,
          "schema_version": 3,
          "solution": false,
          "task": false
        }
      },
      "source": [
        "math.degrees(math.acos((5*5 + 6*6 - 7*7)/(2*5*6)))"
      ],
      "execution_count": null,
      "outputs": []
    },
    {
      "cell_type": "markdown",
      "metadata": {
        "kernel": "Python 3",
        "nbgrader": {
          "grade": false,
          "grade_id": "c-007",
          "locked": true,
          "schema_version": 3,
          "solution": false,
          "task": false
        }
      },
      "source": [
        "* ${}_{2021}\\mbox{C}_{37}$を4で割ったあまりはいくらか?"
      ]
    },
    {
      "cell_type": "code",
      "metadata": {
        "kernel": "Python 3",
        "nbgrader": {
          "grade": false,
          "grade_id": "c-008",
          "locked": true,
          "schema_version": 3,
          "solution": false,
          "task": false
        }
      },
      "source": [
        "math.comb(2021, 37) % 4"
      ],
      "execution_count": null,
      "outputs": []
    },
    {
      "cell_type": "markdown",
      "metadata": {
        "kernel": "Python 3",
        "nbgrader": {
          "grade": false,
          "grade_id": "c-009",
          "locked": true,
          "schema_version": 3,
          "solution": false,
          "task": false
        }
      },
      "source": [
        "\n",
        "#  コメント",
        "\n",
        "* ${}_{n}\\mbox{C}_{r}$ そのものを計算する関数(comb)が備わっているのでそれを使って, あまりは % で求めてもらえばよいというつもりだったが, 他にもやり方があるので結果として割と落とし穴の多い問題になった\n",
        "* どちらの落とし穴も本質的には同じ理由で生ずるもので, それはそれで教育的なので解説する\n",
        ""
      ]
    },
    {
      "cell_type": "markdown",
      "metadata": {
        "kernel": "Python 3",
        "nbgrader": {
          "grade": false,
          "grade_id": "c-010",
          "locked": true,
          "schema_version": 3,
          "solution": false,
          "task": false
        }
      },
      "source": [
        "\n",
        "##  別法1: あまりをもとめるのに `math.remainder` 関数を使う",
        ""
      ]
    },
    {
      "cell_type": "code",
      "metadata": {
        "kernel": "Python 3",
        "nbgrader": {
          "grade": false,
          "grade_id": "c-011",
          "locked": true,
          "schema_version": 3,
          "solution": false,
          "task": false
        }
      },
      "source": [
        "math.remainder(math.comb(2021, 37), 4)"
      ],
      "execution_count": null,
      "outputs": []
    },
    {
      "cell_type": "markdown",
      "metadata": {
        "kernel": "Python 3",
        "nbgrader": {
          "grade": false,
          "grade_id": "c-012",
          "locked": true,
          "schema_version": 3,
          "solution": false,
          "task": false
        }
      },
      "source": [
        "\n",
        "* すると答えは 0.0 と出る\n",
        "* これは2つの理由で起きる \n",
        "  * `math.remainder(x, y)` が, 計算をする際にx, yを小数点数つきの数, 正確には「浮動小数点数」に変換してから計算する\n",
        "  * sinやlogなども同様のことをする\n",
        "  * 「浮動小数点数」は表現できる桁数に限界があり, 巨大な整数を正確に表すことができない (下の何桁かが切り捨てられてしまう)\n",
        "  * コンピュータには浮動小数点数を高速に扱うハードウェアが備わっているため計算にはしばしば浮動小数点数が使われる(そもそも無理数など, 有限桁数ではどうやっても正確に表しようのない数があるので適度なところで妥協しなくてはならない)\n",
        "* 今の場合, x が巨大なので上記のような限界に引っかかってしまう\n",
        "\n",
        "* 「浮動小数点数」が数をどのように表現しているかを(多少端折って)説明すると, \n",
        "\n",
        "$$\\pm 1.ddd \\cdots ddd \\times 2^{nnn \\cdots nnn}$$\n",
        "\n",
        "という形ですべての数を表現している. ここで,\n",
        " * $ddd ... ddd$ の部分は2進数で52 桁,\n",
        " * $nnn ... nnn$ は2進数で11桁 (うち1桁は正負の符号を表す)\n",
        "と決まっている. \n",
        "* 負の数をどうするとか, 0をどうするかとか細かい話はあるが省略(<a href=\"https://en.wikipedia.org/wiki/Double-precision_floating-point_format\" target=\"_blank\">詳細</a>).\n",
        "\n",
        "* したがって大きな整数は, 1ddd ... ddd (合計53桁) までの整数しか正確に表せない\n",
        "* つまり正確に表せる整数の最大値は, \n",
        "$$ 1.111 \\cdots 111 \\times 2^{53} = 2^{54} - 1$$ \n",
        "までということになる\n",
        "* それを超えると, 下の方の桁が0になったのと同じになる\n",
        "\n",
        "* そのことは以下のようにして確かめられる\n",
        "* float(x) は x を浮動小数点数に変換する関数\n",
        "\n",
        "* $2^{54} - 2 = 2^{54} - 1$ か?\n",
        ""
      ]
    },
    {
      "cell_type": "code",
      "metadata": {
        "kernel": "Python 3",
        "nbgrader": {
          "grade": false,
          "grade_id": "c-013",
          "locked": true,
          "schema_version": 3,
          "solution": false,
          "task": false
        }
      },
      "source": [
        "float(2 ** 54 - 2) == float(2 ** 54 - 1)"
      ],
      "execution_count": null,
      "outputs": []
    },
    {
      "cell_type": "markdown",
      "metadata": {
        "kernel": "Python 3",
        "nbgrader": {
          "grade": false,
          "grade_id": "c-014",
          "locked": true,
          "schema_version": 3,
          "solution": false,
          "task": false
        }
      },
      "source": [
        "* $2^{54} - 1 = 2^{54}$ か?"
      ]
    },
    {
      "cell_type": "code",
      "metadata": {
        "kernel": "Python 3",
        "nbgrader": {
          "grade": false,
          "grade_id": "c-015",
          "locked": true,
          "schema_version": 3,
          "solution": false,
          "task": false
        }
      },
      "source": [
        "float(2 ** 54 - 1) == float(2 ** 54)"
      ],
      "execution_count": null,
      "outputs": []
    },
    {
      "cell_type": "code",
      "metadata": {
        "kernel": "Python 3",
        "nbgrader": {
          "grade": false,
          "grade_id": "c-016",
          "locked": true,
          "schema_version": 3,
          "solution": false,
          "task": false
        }
      },
      "source": [
        "float(2 ** 54 - 0) - float(2 ** 54 - 1)"
      ],
      "execution_count": null,
      "outputs": []
    },
    {
      "cell_type": "markdown",
      "metadata": {
        "kernel": "Python 3",
        "nbgrader": {
          "grade": false,
          "grade_id": "c-017",
          "locked": true,
          "schema_version": 3,
          "solution": false,
          "task": false
        }
      },
      "source": [
        "\n",
        "* floatを使わなければこのようなことはおきない\n",
        ""
      ]
    },
    {
      "cell_type": "code",
      "metadata": {
        "kernel": "Python 3",
        "nbgrader": {
          "grade": false,
          "grade_id": "c-018",
          "locked": true,
          "schema_version": 3,
          "solution": false,
          "task": false
        }
      },
      "source": [
        "(2 ** 54) - (2 ** 54 - 1)"
      ],
      "execution_count": null,
      "outputs": []
    },
    {
      "cell_type": "markdown",
      "metadata": {
        "kernel": "Python 3",
        "nbgrader": {
          "grade": false,
          "grade_id": "c-019",
          "locked": true,
          "schema_version": 3,
          "solution": false,
          "task": false
        }
      },
      "source": [
        "\n",
        "* なおこれはコンピュータが, 整数ならいくらでも桁数の多い値を表せるハードウェアを備えているということではなく, Pythonが桁数の大きい整数になったら複数の(桁数の限られた)整数をつなぎ合わせて(例えば 64 桁の整数を2つあわせれば 128 桁分の整数が表せる)大きな数を表しているからできることである\n",
        "* 他の言語の整数ではこうはならないことが普通なので注意が必要\n",
        ""
      ]
    },
    {
      "cell_type": "markdown",
      "metadata": {
        "kernel": "Python 3",
        "nbgrader": {
          "grade": false,
          "grade_id": "c-020",
          "locked": true,
          "schema_version": 3,
          "solution": false,
          "task": false
        }
      },
      "source": [
        "\n",
        "##  別法2: combを使わずに, factorial とわり算を使う",
        "\n",
        "$${}_{n}\\mbox{C}_{r} = \\frac{n!}{r! (n-r)!}$$\n",
        "\n",
        "だから, `math.factorial`を使って以下のようにする\n",
        ""
      ]
    },
    {
      "cell_type": "code",
      "metadata": {
        "kernel": "Python 3",
        "nbgrader": {
          "grade": false,
          "grade_id": "c-021",
          "locked": true,
          "schema_version": 3,
          "solution": false,
          "task": false
        }
      },
      "source": [
        "(math.factorial(2021) / (math.factorial(37) * math.factorial(2021 - 37))) % 4"
      ],
      "execution_count": null,
      "outputs": []
    },
    {
      "cell_type": "markdown",
      "metadata": {
        "kernel": "Python 3",
        "nbgrader": {
          "grade": false,
          "grade_id": "c-022",
          "locked": true,
          "schema_version": 3,
          "solution": false,
          "task": false
        }
      },
      "source": [
        "\n",
        "* こちらも答えは0.0 と出てしまう\n",
        "* 理由もほとんど同じで `/` が「答えを浮動小数点数で求める」と決まっているため\n",
        "* すなわち上記は以下と同じこと. そしてそれが正しく答えを求められない理由も別法1と全く同じ\n",
        ""
      ]
    },
    {
      "cell_type": "code",
      "metadata": {
        "kernel": "Python 3",
        "nbgrader": {
          "grade": false,
          "grade_id": "c-023",
          "locked": true,
          "schema_version": 3,
          "solution": false,
          "task": false
        }
      },
      "source": [
        "float(math.factorial(2021) / (math.factorial(37) * math.factorial(2021 - 37))) % 4"
      ],
      "execution_count": null,
      "outputs": []
    },
    {
      "cell_type": "markdown",
      "metadata": {
        "kernel": "Python 3",
        "nbgrader": {
          "grade": false,
          "grade_id": "c-024",
          "locked": true,
          "schema_version": 3,
          "solution": false,
          "task": false
        }
      },
      "source": [
        "\n",
        "* この方針で正しく答えを求めるには `/` を `//` に置き換える\n",
        "* `//` は「答えを整数で求める割り算」(端数は切り捨てる)\n",
        ""
      ]
    },
    {
      "cell_type": "code",
      "metadata": {
        "kernel": "Python 3",
        "nbgrader": {
          "grade": false,
          "grade_id": "c-025",
          "locked": true,
          "schema_version": 3,
          "solution": false,
          "task": false
        }
      },
      "source": [
        "math.factorial(2021) // (math.factorial(37) * math.factorial(2021 - 37)) % 4"
      ],
      "execution_count": null,
      "outputs": []
    }
  ],
  "metadata": {
    "celltoolbar": "Create Assignment",
    "kernelspec": {
      "display_name": "Python 3",
      "language": "python",
      "name": "python3"
    },
    "language_info": {
      "codemirror_mode": {
        "name": "ipython",
        "version": 3
      },
      "file_extension": ".py",
      "mimetype": "text/x-python",
      "name": "python",
      "nbconvert_exporter": "python",
      "pygments_lexer": "ipython3",
      "version": "3.8.5"
    }
  },
  "nbformat": 4,
  "nbformat_minor": 4
}