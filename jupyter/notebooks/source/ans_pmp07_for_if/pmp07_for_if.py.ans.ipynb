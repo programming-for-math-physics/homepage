{
  "cells": [
    {
      "cell_type": "markdown",
      "metadata": {
        "kernel": "Python 3",
        "nbgrader": {
          "grade": false,
          "grade_id": "c-001",
          "locked": true,
          "schema_version": 3,
          "solution": false,
          "task": false
        }
      },
      "source": [
        "\n",
        "# <font color=\"green\"> Problem 1 :  素数の判定</font>",
        "\n",
        "2以上の整数n が与えられ, それが素数であるか否かを判定する(素数であればTrue, 素数でなければFalseを返す)関数を書け\n",
        "\n",
        "ヒント: nが素数か否かを判定するには, i = 2, 3, 4, 5, ... で, nを順に割っていき, 約数 (nを割って余りが0になる数)を見つける. $i < n$である約数が見つかれば素数ではない. $i = n$まで約数が見つからなければ, $n$未満の約数がないということだから素数である. なお, 実際には$n = a b$と分解できたとすると, $a, b$のどちらかは$\\leq \\sqrt{n}$だから, $i^2 \\leq n$の範囲で約数が見つからなければ, ただしに素数であると断定できる (1000001が素数かどうかを判定するには 1000まで割り算をすればよい).\n",
        ""
      ]
    },
    {
      "cell_type": "code",
      "metadata": {
        "kernel": "Python 3",
        "nbgrader": {
          "grade": false,
          "grade_id": "c-002",
          "locked": true,
          "schema_version": 3,
          "solution": false,
          "task": false
        }
      },
      "source": [
        "def is_prime(n):\n",
        "    for i in range(2, n):\n",
        "        if i * i > n:\n",
        "            return True\n",
        "        elif n % i == 0:\n",
        "            return False\n",
        "    return True"
      ],
      "execution_count": null,
      "outputs": []
    },
    {
      "cell_type": "code",
      "metadata": {
        "kernel": "Python 3",
        "nbgrader": {
          "grade": true,
          "grade_id": "p-001",
          "locked": true,
          "schema_version": 3,
          "solution": true,
          "task": false,
          "points": 1
        }
      },
      "source": [
        "BEGIN SOLUTION\n",
        "END SOLUTION\n",
        "# test\n",
        "assert(is_prime(2))\n",
        "assert(is_prime(3))\n",
        "assert(not is_prime(4))\n",
        "assert(is_prime(5))\n",
        "assert(is_prime(99991))\n",
        "assert(not is_prime(99991 * 99991))\n",
        "print(\"OK\")"
      ],
      "execution_count": null,
      "outputs": []
    },
    {
      "cell_type": "markdown",
      "metadata": {
        "kernel": "Python 3",
        "nbgrader": {
          "grade": false,
          "grade_id": "c-003",
          "locked": true,
          "schema_version": 3,
          "solution": false,
          "task": false
        }
      },
      "source": [
        "\n",
        "# <font color=\"green\"> Problem 2 :  方程式の解</font>",
        "\n",
        "関数$f$と実数$a, b$ ($a < b$)が与えられ, \n",
        "区間$[a,b]$の中で$f(x) = 0$の解(のうち最小のもの)\n",
        "を求める関数 find_root(f, a, b) を書け.\n",
        "解がなければ, Noneを返せ.\n",
        "\n",
        "ヒント: ここでやりたいのは人間が紙で計算するときのように, $f(x)$の形を見て記号的に解くということではなく, $f(x) \\approx 0$となるような$x$ (の近似値)を, 「コンピュータらしい」単純なやり方で求めるということ. \n",
        "\n",
        "それは単に, $x$を$a$から$b$までくまなく動かしてその中で$f(x)\\approx 0$となる値が現れたらそれを答えとする, というだけである. $f(x) \\approx 0$というのがあまりにも曖昧であるのと, できるだけ真の解に近いものを求めるため, 以下のようにする.\n",
        "\n",
        "それをプログラムにする上でのヒント:\n",
        "\n",
        " * $\\Delta x = (b-a)/10000$とする\n",
        " * $x$を$a$から$b$まで, $\\Delta x$ずつ動かしていく\n",
        " * それぞれに対し, $f(x)$と$f(x+\\Delta x)$を計算\n",
        " * どちらかが0になるか, 両者の符号が入れ変わったところで$x$を答えとする\n",
        "\n",
        "なお, 運が悪いとこのやり方で解を見逃すこともある. どのような場合か考えてみよ(そのような場合にどうしたらいいかというのは実際かなり難しい問題なのでとりあえず深入りはしない).\n",
        ""
      ]
    },
    {
      "cell_type": "code",
      "metadata": {
        "kernel": "Python 3",
        "nbgrader": {
          "grade": false,
          "grade_id": "c-004",
          "locked": true,
          "schema_version": 3,
          "solution": false,
          "task": false
        }
      },
      "source": [
        "def find_root(f, a, b):\n",
        "    n = 10000\n",
        "    dx = (b - a) / n\n",
        "    for i in range(n):\n",
        "        x = a + i * dx\n",
        "        if f(x) * f(x+dx) <= 0:\n",
        "            return x\n",
        "    return None"
      ],
      "execution_count": null,
      "outputs": []
    },
    {
      "cell_type": "code",
      "metadata": {
        "kernel": "Python 3",
        "nbgrader": {
          "grade": true,
          "grade_id": "p-002",
          "locked": true,
          "schema_version": 3,
          "solution": true,
          "task": false,
          "points": 1
        }
      },
      "source": [
        "BEGIN SOLUTION\n",
        "END SOLUTION\n",
        "# test\n",
        "import math\n",
        "def check_root(f, a, b, x_true):\n",
        "    x = find_root(f, a, b)\n",
        "    assert(math.isclose(x, x_true, abs_tol=(b - a) / 10000)), (x, x_true)\n",
        "    print(\"OK\")\n",
        "    \n",
        "check_root(math.cos, 0, 10, math.pi/2.0)\n",
        "\n",
        "def f0(x):\n",
        "    return (x - 1) * (x - 1.1) * (x - 1.2)\n",
        "\n",
        "check_root(f0, -2, 2, 1)"
      ],
      "execution_count": null,
      "outputs": []
    },
    {
      "cell_type": "markdown",
      "metadata": {
        "kernel": "Python 3",
        "nbgrader": {
          "grade": false,
          "grade_id": "c-005",
          "locked": true,
          "schema_version": 3,
          "solution": false,
          "task": false
        }
      },
      "source": [
        "\n",
        "# <font color=\"green\"> Problem 3 :  関数の最小値</font>",
        "\n",
        "* 関数 $f$ と, 2つの実数$a, b$ ($a < b$)が与えられ, $f$の, 区間$[a,b]$における最小値を与える$x$ (の近似値)を求める関数 find_min(f, a, b) を書け.\n",
        "\n",
        "* ヒント: もちろんここでも考えているのは, $f(x)$ を(記号的に)微分して, $f'(x) = 0$をといて, ...みたいな紙の上でやったような記号的な計算をコンピュータにやらせようということではない.\n",
        "\n",
        "* 「コンピュータらしい」単純なやり方をする. それは単に$x$を$a$から$b$までくまなく動かしてその中で出現する$f(x)$の最小値を拾い上げるというだけのやりかたである.\n",
        "\n",
        "* それをプログラムにする上でのヒント:\n",
        "\n",
        " * $\\Delta x = (b-a)/10000$とする\n",
        " * $x$を$a$から$b$まで, $\\Delta x$ずつ動かしていく\n",
        " * それぞれに対し$f(x)$を計算\n",
        " * 「これまでの最小を記録した$x$」を別の変数に覚えておき, 記録が更新されたらその変数を更新する\n",
        ""
      ]
    },
    {
      "cell_type": "code",
      "metadata": {
        "kernel": "Python 3",
        "nbgrader": {
          "grade": false,
          "grade_id": "c-006",
          "locked": true,
          "schema_version": 3,
          "solution": false,
          "task": false
        }
      },
      "source": [
        "def find_min(f, a, b):\n",
        "    dx = (b - a) / 10000\n",
        "    xm = a\n",
        "    for i in range(10000):\n",
        "        x = a + (i + 1) * dx\n",
        "        if f(x) < f(xm):\n",
        "            xm = x\n",
        "    return xm"
      ],
      "execution_count": null,
      "outputs": []
    },
    {
      "cell_type": "code",
      "metadata": {
        "kernel": "Python 3",
        "nbgrader": {
          "grade": true,
          "grade_id": "p-003",
          "locked": true,
          "schema_version": 3,
          "solution": true,
          "task": false,
          "points": 1
        }
      },
      "source": [
        "BEGIN SOLUTION\n",
        "END SOLUTION\n",
        "# test\n",
        "import random\n",
        "def check_min(f, a, b):\n",
        "    rg = random.Random()\n",
        "    x_min = find_min(f, a, b)\n",
        "    for i in range(1000):\n",
        "        x = a + (b - a) * rg.random()\n",
        "        assert(f(x_min) <= f(x)), (x, x_min, f(x), f(x_min))\n",
        "    print(\"OK\")\n",
        "\n",
        "def f1(x):\n",
        "    return x * x - 2 * x + 3\n",
        "\n",
        "check_min(f1, -5, 5)\n",
        "\n",
        "def f2(x):\n",
        "    return x ** 3 - 4 * x\n",
        "\n",
        "check_min(f2, -2, 2)"
      ],
      "execution_count": null,
      "outputs": []
    },
    {
      "cell_type": "markdown",
      "metadata": {
        "kernel": "Python 3",
        "nbgrader": {
          "grade": false,
          "grade_id": "c-007",
          "locked": true,
          "schema_version": 3,
          "solution": false,
          "task": false
        }
      },
      "source": [
        "\n",
        "# <font color=\"green\"> Problem 4 :  関数の最小値(2変数)</font>",
        "\n",
        " 半径1の円に内接する三角形の面積の最大値を求める関数 find_max_triangle() を書け\n",
        "\n",
        " (数学の)ヒント: 円の中心をO, 三角形の三頂点ABC, ∠AOB $= x$ ∠BOC $= y$ とすると, 三角形の面積$S$は\n",
        "\n",
        "$$ S = \\frac{1}{2} (\\sin x + \\sin y + \\sin(2\\pi - x - y)) $$\n",
        "\n",
        "あとは$x$と$y$を, $0 < x < \\pi$, $0 < y < \\pi$, $x + y < \\pi$\n",
        "の範囲で動かせばよいだけである.\n",
        "\n",
        " (プログラム上のヒント): 前問の, 最小値を求める考え方は変数が二つになってもほとんど同じで通用する. 違いは, for文を二重にしなくてはならないことだけ\n",
        "\n",
        "```\n",
        "xを0 < x < piまで動かすためのfor文:\n",
        "  yを0 < y < pi - xまで動かすためのfor文:\n",
        "    ... 記録更新していれば ...   \n",
        "```\n",
        "\n",
        "という具合.\n",
        "\n",
        "* なお, $x$や$y$を動かす際, 区間$[0,\\pi]$を何分割くらいにすればいいかは試行錯誤してみてほしいのだが, $1000$分割とでもすると, 合計で$1000 \\times 1000$回, 面積の計算をすることになる. このくらいになると計算に体感できるほどの時間がかかることがわかる. ためしに5000分割すると相当またなくてはならない.\n",
        "\n",
        "* コンピュータがいくら計算が速いと行っても, 2次元, 3次元, 多次元の問題になってくるとたちまち計算量が増えていき, 何らかの工夫をしなくてはならないことが感じられるだろう. ここでは時間がないので扱わずに先へ進む\n",
        ""
      ]
    },
    {
      "cell_type": "code",
      "metadata": {
        "kernel": "Python 3",
        "nbgrader": {
          "grade": false,
          "grade_id": "c-008",
          "locked": true,
          "schema_version": 3,
          "solution": false,
          "task": false
        }
      },
      "source": [
        "def find_max_triangle():\n",
        "    n = 2000\n",
        "    S_max = 0\n",
        "    for i in range(n):\n",
        "        for j in range(n):\n",
        "            x = i * math.pi / n\n",
        "            y = j * math.pi / n\n",
        "            z = 2 * math.pi - x - y\n",
        "            if z > 0:\n",
        "                S = 0.5 * (math.sin(x) + math.sin(y) + math.sin(z))\n",
        "                if S > S_max:\n",
        "                    S_max = S\n",
        "    return S_max"
      ],
      "execution_count": null,
      "outputs": []
    },
    {
      "cell_type": "code",
      "metadata": {
        "kernel": "Python 3",
        "nbgrader": {
          "grade": true,
          "grade_id": "p-004",
          "locked": true,
          "schema_version": 3,
          "solution": true,
          "task": false,
          "points": 1
        }
      },
      "source": [
        "BEGIN SOLUTION\n",
        "END SOLUTION\n",
        "# test\n",
        "assert(math.isclose(find_max_triangle(), 3 * math.sqrt(3) / 4, rel_tol=1.0e-3)), find_max_triangle()\n",
        "print(\"OK\")"
      ],
      "execution_count": null,
      "outputs": []
    }
  ],
  "metadata": {
    "celltoolbar": "Create Assignment",
    "kernelspec": {
      "display_name": "Python 3",
      "language": "python",
      "name": "python3"
    },
    "language_info": {
      "codemirror_mode": {
        "name": "ipython",
        "version": 3
      },
      "file_extension": ".py",
      "mimetype": "text/x-python",
      "name": "python",
      "nbconvert_exporter": "python",
      "pygments_lexer": "ipython3",
      "version": "3.8.5"
    }
  },
  "nbformat": 4,
  "nbformat_minor": 4
}