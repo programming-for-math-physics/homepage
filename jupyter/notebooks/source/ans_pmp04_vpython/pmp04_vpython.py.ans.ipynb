{
  "cells": [
    {
      "cell_type": "markdown",
      "metadata": {
        "kernel": "Python 3 (ipykernel)",
        "nbgrader": {
          "grade": false,
          "grade_id": "c-001",
          "locked": true,
          "schema_version": 3,
          "solution": false,
          "task": false
        }
      },
      "source": [
        "\n",
        "# <font color=\"green\"> Problem 1 :  天井からバネで吊るされるおもり</font>",
        "\n",
        "物理でよくある, 「天井」から「バネ」が生えていてその先に「おもり」がついている, という絵を描く関数 mass_spring() を書け\n",
        "\n",
        "大きさ, 長さなど, それらしい絵になるように調節してみよ. テクスチャを使って天井をリアルにするのも良い.\n",
        ""
      ]
    },
    {
      "cell_type": "code",
      "metadata": {
        "kernel": "Python 3 (ipykernel)",
        "nbgrader": {
          "grade": false,
          "grade_id": "c-002",
          "locked": true,
          "schema_version": 3,
          "solution": false,
          "task": false
        }
      },
      "source": [
        "def mass_spring():\n",
        "    pos = vector(0,-3,0)\n",
        "    ceil = box(height=0.1)\n",
        "    spring = helix(axis=pos, radius=0.5)\n",
        "    weight = sphere(pos=pos)\n",
        "\n",
        "s = canvas()\n",
        "mass_spring()"
      ],
      "execution_count": null,
      "outputs": []
    },
    {
      "cell_type": "markdown",
      "metadata": {
        "kernel": "Python 3 (ipykernel)",
        "nbgrader": {
          "grade": false,
          "grade_id": "c-003",
          "locked": true,
          "schema_version": 3,
          "solution": false,
          "task": false
        }
      },
      "source": [
        "\n",
        "# <font color=\"green\"> Problem 2 :  正三角形</font>",
        "\n",
        "長さ$l$が与えられたら, 一辺の長さ$l$の正三角形を作図する関数`regular_triangle(l)`を書け(正三角形でありさえすれば座標は自由に決めて良い). そして, 長さ1, 2の正三角形を書け. 正三角形は, 上記のバトンのように, 各頂点に球があり, その間が円柱で結ばれているという絵で書く.\n",
        ""
      ]
    },
    {
      "cell_type": "code",
      "metadata": {
        "kernel": "Python 3 (ipykernel)",
        "nbgrader": {
          "grade": false,
          "grade_id": "c-004",
          "locked": true,
          "schema_version": 3,
          "solution": false,
          "task": false
        }
      },
      "source": [
        "import math\n",
        "def regular_triangle(l):\n",
        "    u = l / math.sqrt(2)\n",
        "    a = vector(u, u, 0)\n",
        "    b = vector(u, 0, u)\n",
        "    c = vector(0, u, u)\n",
        "    sphere(pos=a)\n",
        "    sphere(pos=b)\n",
        "    sphere(pos=c)\n",
        "    cylinder(pos=a, axis=b-a, radius=0.1)\n",
        "    cylinder(pos=b, axis=c-b, radius=0.1)\n",
        "    cylinder(pos=c, axis=a-c, radius=0.1)\n",
        "\n",
        "s = canvas()\n",
        "regular_triangle(1.0)\n",
        "regular_triangle(2.0)"
      ],
      "execution_count": null,
      "outputs": []
    },
    {
      "cell_type": "markdown",
      "metadata": {
        "kernel": "Python 3 (ipykernel)",
        "nbgrader": {
          "grade": false,
          "grade_id": "c-005",
          "locked": true,
          "schema_version": 3,
          "solution": false,
          "task": false
        }
      },
      "source": [
        "\n",
        "# <font color=\"green\"> Problem 3 :  メタン分子</font>",
        "\n",
        "メタン分子 $\\mbox{CH}_4$みたいなものを描く関数 mathane() を書け"
      ]
    },
    {
      "cell_type": "code",
      "metadata": {
        "kernel": "Python 3 (ipykernel)",
        "nbgrader": {
          "grade": false,
          "grade_id": "c-006",
          "locked": true,
          "schema_version": 3,
          "solution": false,
          "task": false
        }
      },
      "source": [
        "import math\n",
        "def methane():\n",
        "    u = 5\n",
        "    H0 = vector(u, u, 0)\n",
        "    H1 = vector(u, 0, u)\n",
        "    H2 = vector(0, u, u)\n",
        "    H3 = vector(0, 0, 0)\n",
        "    C = vector(0.5, 0.5, 0.5)\n",
        "    sphere(pos=H0)\n",
        "    sphere(pos=H1)\n",
        "    sphere(pos=H2)\n",
        "    sphere(pos=H3)\n",
        "    sphere(pos=C)\n",
        "    cylinder(pos=C, axis=H0-C, radius=0.1)\n",
        "    cylinder(pos=C, axis=H1-C, radius=0.1)\n",
        "    cylinder(pos=C, axis=H2-C, radius=0.1)\n",
        "    cylinder(pos=C, axis=H3-C, radius=0.1)\n",
        "\n",
        "s = canvas()\n",
        "methane()"
      ],
      "execution_count": null,
      "outputs": []
    }
  ],
  "metadata": {
    "celltoolbar": "Create Assignment",
    "kernelspec": {
      "display_name": "Python 3 (ipykernel)",
      "language": "python",
      "name": "python3"
    },
    "language_info": {
      "codemirror_mode": {
        "name": "ipython",
        "version": 3
      },
      "file_extension": ".py",
      "mimetype": "text/x-python",
      "name": "python",
      "nbconvert_exporter": "python",
      "pygments_lexer": "ipython3",
      "version": "3.8.10"
    }
  },
  "nbformat": 4,
  "nbformat_minor": 4
}