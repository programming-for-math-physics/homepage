{
  "cells": [
    {
      "cell_type": "markdown",
      "metadata": {
        "kernel": "Python 3 (ipykernel)",
        "nbgrader": {
          "grade": false,
          "grade_id": "c-001",
          "locked": true,
          "schema_version": 3,
          "solution": false,
          "task": false
        }
      },
      "source": [
        "\n",
        "# <font color=\"green\"> Problem 1 :  ヘロンの公式</font>",
        "\n",
        "ヘロンの公式は, 3辺の長さが$a, b, c$であるような三角形の面積が,\n",
        "\n",
        "$$ S = \\sqrt{s(s-a)(s-b)(s-c)} $$\n",
        "\n",
        "というものである. ただし,\n",
        "\n",
        "$$ s = \\frac{a+b+c}{2} $$\n",
        "\n",
        "である.\n",
        "\n",
        "変数を使いつつ, 3辺の長さが, 7, 8, 9 であるような三角形の面積を求め, 結果を変数Hに格納せよ.\n",
        ""
      ]
    },
    {
      "cell_type": "code",
      "metadata": {
        "kernel": "Python 3 (ipykernel)",
        "nbgrader": {
          "grade": false,
          "grade_id": "c-002",
          "locked": true,
          "schema_version": 3,
          "solution": false,
          "task": false
        }
      },
      "source": [
        "import math\n",
        "a = 7\n",
        "b = 8\n",
        "c = 9\n",
        "s = (a + b + c) / 2\n",
        "H = math.sqrt(s * (s-a) * (s-b) * (s-c))"
      ],
      "execution_count": null,
      "outputs": []
    },
    {
      "cell_type": "markdown",
      "metadata": {
        "kernel": "Python 3 (ipykernel)",
        "nbgrader": {
          "grade": false,
          "grade_id": "c-003",
          "locked": true,
          "schema_version": 3,
          "solution": false,
          "task": false
        }
      },
      "source": [
        "Hを表示してみよ"
      ]
    },
    {
      "cell_type": "code",
      "metadata": {
        "kernel": "Python 3 (ipykernel)",
        "nbgrader": {
          "grade": false,
          "grade_id": "c-004",
          "locked": true,
          "schema_version": 3,
          "solution": false,
          "task": false
        }
      },
      "source": [
        "H"
      ],
      "execution_count": null,
      "outputs": []
    },
    {
      "cell_type": "code",
      "metadata": {
        "kernel": "Python 3 (ipykernel)",
        "nbgrader": {
          "grade": true,
          "grade_id": "p-001",
          "locked": true,
          "schema_version": 3,
          "solution": true,
          "task": false,
          "points": 1
        }
      },
      "source": [
        "BEGIN SOLUTION\n",
        "END SOLUTION\n",
        "assert(H == 26.832815729997478), H\n",
        "print(\"OK\")"
      ],
      "execution_count": null,
      "outputs": []
    },
    {
      "cell_type": "markdown",
      "metadata": {
        "kernel": "Python 3 (ipykernel)",
        "nbgrader": {
          "grade": false,
          "grade_id": "c-005",
          "locked": true,
          "schema_version": 3,
          "solution": false,
          "task": false
        }
      },
      "source": [
        "\n",
        "# <font color=\"green\"> Problem 2 :  水素のイオン化エネルギー</font>",
        "\n",
        "水素の電子を引き剥がすのに必要なエネルギー(イオン化エネルギー)は\n",
        "\n",
        "$$ \\frac{m_e e^4}{8 \\epsilon_0^2 h^2} \\mbox{[J]}$$\n",
        "\n",
        "で与えられる. ただし,\n",
        "\n",
        "* $m_e = 9.10938356 \\times 10^{-31} [\\mbox{kg}]$  : 電子の質量 \n",
        "* $e = 1.602176634 \\times 10^{-19} [\\mbox{A} \\cdot \\mbox{s}]$  : 電子の電荷\n",
        "* $\\epsilon_0 = 8.85418782 \\times 10^{-12} [\\mbox{m}^{-3} \\mbox{kg}^{-1} \\mbox{s}^4 \\mbox{A}^2]$ : 誘電率\n",
        "* $h = 6.62607004 \\times 10^{-34} [\\mbox{m}^2 \\mbox{kg} / \\mbox{s}]$ : プランク定数\n",
        "\n",
        "変数を使いながら水素のイオン化エネルギーを計算し, <a href=\"https://ja.wikipedia.org/wiki/%E3%82%A4%E3%82%AA%E3%83%B3%E5%8C%96%E3%82%A8%E3%83%8D%E3%83%AB%E3%82%AE%E3%83%BC\" target=\"_blank\"> Wikipedia </a> で答え合わせをせよ.\n",
        "\n",
        "注: 上記の値をそのまま上の式に代入すると求まるのは水素電子1個あたりのエネルギーで, J (ジュール)単位になる. Wikipediaの答えは, 1 mol (アボガドロ数個)のエネルギーで, kJ/mol である.\n",
        "\n",
        "* アボガドロ数 $= 6.0221409 \\times 10^{23}$\n",
        "\n",
        "なおややこしい数値を書き写すときはコピー・ペーストを使おう\n",
        ""
      ]
    },
    {
      "cell_type": "code",
      "metadata": {
        "kernel": "Python 3 (ipykernel)",
        "nbgrader": {
          "grade": false,
          "grade_id": "c-006",
          "locked": true,
          "schema_version": 3,
          "solution": false,
          "task": false
        }
      },
      "source": [
        "me = 9.10938356e-31\n",
        "e = 1.602176634e-19\n",
        "eps = 8.85418782e-12\n",
        "h = 6.62607004e-34\n",
        "abo = 6.0221409e23\n",
        "me * e**4 / (8 * eps**2 * h**2) * abo / 1000"
      ],
      "execution_count": null,
      "outputs": []
    },
    {
      "cell_type": "markdown",
      "metadata": {
        "kernel": "Python 3 (ipykernel)",
        "nbgrader": {
          "grade": false,
          "grade_id": "c-007",
          "locked": true,
          "schema_version": 3,
          "solution": false,
          "task": false
        }
      },
      "source": [
        "\n",
        "# <font color=\"green\"> Problem 3 :  重力加速度</font>",
        "\n",
        "我々(質量$m$の物体とする)が地球で感じる力は $mg$ ($g$ : 重力加速度)であるが, その正体は, 地球と物体の間で働く万有引力\n",
        "\n",
        "$$ G\\frac{mM}{R^2} $$\n",
        "\n",
        "である. ここで,\n",
        "* $G = 6.67408 \\times 10^{-11} [\\mbox{m}^3 \\mbox{kg}^{-1} \\mbox{s}^{-2}] $ 万有引力定数\n",
        "* $M = 5.972 \\times 10^{24} [kg]$ 地球の全質量\n",
        "* $R = 6.371 \\times 10^6 [\\mbox{m}]$ 地球の中心(正確には重心)と物体の距離. 実際は地球の半径と思えば良い.\n",
        "\n",
        "すなわち,\n",
        "\n",
        "$$ g = G\\frac{M}{R^2}$$ \n",
        "\n",
        "これを元に, $g$ の値を求めてみよ(もちろんおなじみの値 $9.80665\\cdots [\\mbox{m} / \\mbox{s}^2]$が求まるはずである)\n",
        ""
      ]
    },
    {
      "cell_type": "code",
      "metadata": {
        "kernel": "Python 3 (ipykernel)",
        "nbgrader": {
          "grade": false,
          "grade_id": "c-008",
          "locked": true,
          "schema_version": 3,
          "solution": false,
          "task": false
        }
      },
      "source": [
        "G = 6.67408e-11\n",
        "M = 5.972e24\n",
        "R = 6.371e6\n",
        "G * M / R ** 2"
      ],
      "execution_count": null,
      "outputs": []
    }
  ],
  "metadata": {
    "celltoolbar": "Create Assignment",
    "kernelspec": {
      "display_name": "Python 3 (ipykernel)",
      "language": "python",
      "name": "python3"
    },
    "language_info": {
      "codemirror_mode": {
        "name": "ipython",
        "version": 3
      },
      "file_extension": ".py",
      "mimetype": "text/x-python",
      "name": "python",
      "nbconvert_exporter": "python",
      "pygments_lexer": "ipython3",
      "version": "3.8.5"
    }
  },
  "nbformat": 4,
  "nbformat_minor": 4
}