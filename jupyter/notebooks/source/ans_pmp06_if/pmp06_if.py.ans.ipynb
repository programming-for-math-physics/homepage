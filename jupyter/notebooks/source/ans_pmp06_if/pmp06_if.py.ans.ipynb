{
  "cells": [
    {
      "cell_type": "markdown",
      "metadata": {
        "kernel": "Python 3",
        "nbgrader": {
          "grade": false,
          "grade_id": "c-001",
          "locked": true,
          "schema_version": 3,
          "solution": false,
          "task": false
        }
      },
      "source": [
        "\n",
        "# <font color=\"green\"> Problem 1 :  小さくない方</font>",
        "\n",
        "2数$a, b$を与えられ, そのうちの大きくない方を返す関数 `min2(a, b)`を書け\n",
        "\n",
        "注: この関数は普通 min と呼ぶべきものであろうが, Pythonには組み込み関数としてminが備わっているため, それと名前が衝突しないよう, min2と名付けている\n",
        ""
      ]
    },
    {
      "cell_type": "code",
      "metadata": {
        "kernel": "Python 3",
        "nbgrader": {
          "grade": false,
          "grade_id": "c-002",
          "locked": true,
          "schema_version": 3,
          "solution": false,
          "task": false
        }
      },
      "source": [
        "def min2(a, b):\n",
        "    if a < b:\n",
        "        return a\n",
        "    else:\n",
        "        return b"
      ],
      "execution_count": null,
      "outputs": []
    },
    {
      "cell_type": "code",
      "metadata": {
        "kernel": "Python 3",
        "nbgrader": {
          "grade": true,
          "grade_id": "p-001",
          "locked": true,
          "schema_version": 3,
          "solution": true,
          "task": false,
          "points": 1
        }
      },
      "source": [
        "BEGIN SOLUTION\n",
        "END SOLUTION\n",
        "# test\n",
        "assert(min2(3, 5) == 3), min2(3, 5)\n",
        "assert(min2(4, 2) == 2), min2(4, 2)\n",
        "assert(min2(1, 1) == 1), min2(1, 1)\n",
        "print(\"OK\")"
      ],
      "execution_count": null,
      "outputs": []
    },
    {
      "cell_type": "markdown",
      "metadata": {
        "kernel": "Python 3",
        "nbgrader": {
          "grade": false,
          "grade_id": "c-003",
          "locked": true,
          "schema_version": 3,
          "solution": false,
          "task": false
        }
      },
      "source": [
        "\n",
        "# <font color=\"green\"> Problem 2 :  三角形が作れるか</font>",
        "\n",
        "3数 a, b, c (すべて正の実数であることを仮定して良い)を与えられ, 3辺をa, b, cとする三角形が存在するか否かを計算する(それに応じてTrueまたはFalse)を返す関数make_triangle(a, b, c)を書け.\n",
        ""
      ]
    },
    {
      "cell_type": "code",
      "metadata": {
        "kernel": "Python 3",
        "nbgrader": {
          "grade": false,
          "grade_id": "c-004",
          "locked": true,
          "schema_version": 3,
          "solution": false,
          "task": false
        }
      },
      "source": [
        "def make_triangle(a, b, c):\n",
        "    if a + b <= c:\n",
        "        return False\n",
        "    if b + c <= a:\n",
        "        return False\n",
        "    if c + a <= b:\n",
        "        return False\n",
        "    return True"
      ],
      "execution_count": null,
      "outputs": []
    },
    {
      "cell_type": "code",
      "metadata": {
        "kernel": "Python 3",
        "nbgrader": {
          "grade": true,
          "grade_id": "p-002",
          "locked": true,
          "schema_version": 3,
          "solution": true,
          "task": false,
          "points": 1
        }
      },
      "source": [
        "BEGIN SOLUTION\n",
        "END SOLUTION\n",
        "# test\n",
        "assert(make_triangle(1,1,1)), (1,1,1)\n",
        "assert(not make_triangle(1,2,3)), (1,2,3)\n",
        "assert(not make_triangle(1,3,2)), (1,3,2)\n",
        "assert(not make_triangle(2,1,3)), (2,1,3)\n",
        "assert(not make_triangle(2,3,1)), (2,3,1)\n",
        "assert(not make_triangle(3,1,2)), (3,1,2)\n",
        "assert(not make_triangle(3,2,1)), (3,2,1)\n",
        "assert(make_triangle(7,8,9)), (7,8,9)\n",
        "assert(make_triangle(7,9,8)), (7,9,8)\n",
        "assert(make_triangle(8,7,9)), (8,7,9)\n",
        "assert(make_triangle(8,9,7)), (8,9,7)\n",
        "assert(make_triangle(9,7,8)), (9,7,8)\n",
        "assert(make_triangle(9,8,7)), (9,8,7)\n",
        "print(\"OK\")"
      ],
      "execution_count": null,
      "outputs": []
    },
    {
      "cell_type": "markdown",
      "metadata": {
        "kernel": "Python 3",
        "nbgrader": {
          "grade": false,
          "grade_id": "c-005",
          "locked": true,
          "schema_version": 3,
          "solution": false,
          "task": false
        }
      },
      "source": [
        "\n",
        "# <font color=\"green\"> Problem 3 :  解の数</font>",
        "\n",
        "3数 a, b, c を与えられ, 方程式\n",
        "\n",
        "$$ ax^2 + bx + c = 0 $$\n",
        "\n",
        "の実数解の個数を計算する関数 count_roots(a, b,c) を書け. \n",
        "ただし無限にある場合は, Noneを返すようにせよ.\n",
        "\n",
        "注: $a = 0$ などの「退化したケース」も正しく処理するようにせよ(if文がたくさん並ぶ)\n",
        ""
      ]
    },
    {
      "cell_type": "code",
      "metadata": {
        "kernel": "Python 3",
        "nbgrader": {
          "grade": false,
          "grade_id": "c-006",
          "locked": true,
          "schema_version": 3,
          "solution": false,
          "task": false
        }
      },
      "source": [
        "def count_roots(a, b, c):\n",
        "    if a == 0:\n",
        "        if b == 0:\n",
        "            if c == 0:\n",
        "                return None\n",
        "            else:\n",
        "                return 0\n",
        "        else:\n",
        "            return 1\n",
        "    else:\n",
        "        D = b * b - 4 * a * c\n",
        "        if D > 0:\n",
        "            return 2\n",
        "        elif D == 0:\n",
        "            return 1\n",
        "        else:\n",
        "            return 0"
      ],
      "execution_count": null,
      "outputs": []
    },
    {
      "cell_type": "code",
      "metadata": {
        "kernel": "Python 3",
        "nbgrader": {
          "grade": true,
          "grade_id": "p-003",
          "locked": true,
          "schema_version": 3,
          "solution": true,
          "task": false,
          "points": 1
        }
      },
      "source": [
        "BEGIN SOLUTION\n",
        "END SOLUTION\n",
        "# test\n",
        "assert(count_roots(2, 3, 2) == 0), (2,3,2)\n",
        "assert(count_roots(2, 4, 2) == 1), (2,4,2)\n",
        "assert(count_roots(2, 5, 2) == 2), (2,5,2)\n",
        "assert(count_roots(0, 3, 2) == 1), (0,3,2)\n",
        "assert(count_roots(0, 0, 2) == 0), (0,0,2)\n",
        "assert(count_roots(0, 0, 0) == None), (0,0,0)\n",
        "print(\"OK\")"
      ],
      "execution_count": null,
      "outputs": []
    }
  ],
  "metadata": {
    "celltoolbar": "Create Assignment",
    "kernelspec": {
      "display_name": "Python 3",
      "language": "python",
      "name": "python3"
    },
    "language_info": {
      "codemirror_mode": {
        "name": "ipython",
        "version": 3
      },
      "file_extension": ".py",
      "mimetype": "text/x-python",
      "name": "python",
      "nbconvert_exporter": "python",
      "pygments_lexer": "ipython3",
      "version": "3.8.5"
    }
  },
  "nbformat": 4,
  "nbformat_minor": 4
}