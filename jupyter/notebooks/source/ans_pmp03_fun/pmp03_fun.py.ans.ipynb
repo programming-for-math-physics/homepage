{
 "cells": [
  {
   "cell_type": "markdown",
   "metadata": {
    "kernel": "Python 3",
    "nbgrader": {
     "grade": false,
     "grade_id": "c-001",
     "locked": true,
     "schema_version": 3,
     "solution": false,
     "task": false
    }
   },
   "source": [
    "\n",
    "# <font color=\"green\"> Problem 1 :  内積</font>\n",
    "4つの数 $a, b, c, d$ を受け取り, ベクトル $(a, b)$ と $(c, d)$の内積を計算する\n",
    "関数, `inner(a, b, c, d)` を書き, 適当な例を使って確かめよ."
   ]
  },
  {
   "cell_type": "code",
   "execution_count": null,
   "metadata": {
    "kernel": "Python 3",
    "nbgrader": {
     "grade": false,
     "grade_id": "c-002",
     "locked": true,
     "schema_version": 3,
     "solution": false,
     "task": false
    }
   },
   "outputs": [],
   "source": [
    "def inner(a,b,c,d):\n",
    "    return a * c + b * d"
   ]
  },
  {
   "cell_type": "code",
   "execution_count": null,
   "metadata": {
    "kernel": "Python 3",
    "nbgrader": {
     "grade": true,
     "grade_id": "p-001",
     "locked": true,
     "points": 1,
     "schema_version": 3,
     "solution": true,
     "task": false
    }
   },
   "outputs": [],
   "source": [
    "BEGIN SOLUTION\n",
    "END SOLUTION\n",
    "# test\n",
    "assert(inner(1,2,3,4) == 11)\n",
    "assert(inner(3,4,3,4) == 25)"
   ]
  },
  {
   "cell_type": "markdown",
   "metadata": {
    "kernel": "Python 3",
    "nbgrader": {
     "grade": false,
     "grade_id": "c-003",
     "locked": true,
     "schema_version": 3,
     "solution": false,
     "task": false
    }
   },
   "source": [
    "\n",
    "# <font color=\"green\"> Problem 2 :  2次方程式の解</font>\n",
    "$a, b, c$を与えられ, 2次方程式\n",
    "\n",
    "$$ ax^2 + bx + c = 0 $$\n",
    "\n",
    "の解(のひとつ; どちらでもよい)を返す関数\n",
    "`solve_q(a, b, c)`を書け. ただし, $a \\neq 0$\n",
    "を仮定して良い.\n",
    "$\\sqrt{\\cdot}$を計算する関数は`math`モジュール内の`sqrt`関数．\n",
    "\n",
    "上記方程式が実数解を持つことを仮定しても良いが,\n",
    "そう仮定する代わりに, `cmath`モジュールの`sqrt`関数(負の数の$\\sqrt{\\cdot}$を計算できる)を使っても良い\n"
   ]
  },
  {
   "cell_type": "code",
   "execution_count": null,
   "metadata": {
    "kernel": "Python 3",
    "nbgrader": {
     "grade": false,
     "grade_id": "c-004",
     "locked": true,
     "schema_version": 3,
     "solution": false,
     "task": false
    }
   },
   "outputs": [],
   "source": [
    "import cmath\n",
    "def solve_q(a,b,c):\n",
    "    d = cmath.sqrt(b * b - 4 * a * c)\n",
    "    x = (-b + d) / (2 * a)\n",
    "    return x"
   ]
  },
  {
   "cell_type": "code",
   "execution_count": null,
   "metadata": {
    "kernel": "Python 3",
    "nbgrader": {
     "grade": true,
     "grade_id": "p-002",
     "locked": true,
     "points": 1,
     "schema_version": 3,
     "solution": true,
     "task": false
    }
   },
   "outputs": [],
   "source": [
    "BEGIN SOLUTION\n",
    "END SOLUTION\n",
    "# test\n",
    "def check_q(a, b, c):\n",
    "    x = solve_q(a, b, c)\n",
    "    return abs(a * x * x + b * x + c) < 1.0e-3\n",
    "\n",
    "assert(check_q(1,5,3))\n",
    "assert(check_q(3,4,-1))"
   ]
  },
  {
   "cell_type": "markdown",
   "metadata": {
    "kernel": "Python 3",
    "nbgrader": {
     "grade": false,
     "grade_id": "c-005",
     "locked": true,
     "schema_version": 3,
     "solution": false,
     "task": false
    }
   },
   "source": [
    "\n",
    "# <font color=\"green\"> Problem 3 :  お手軽な極限値の計算</font>\n",
    "$$ f(x) = \\frac{x}{\\sin x} + \\cos x $$ \n",
    "\n",
    "を計算するPython関数をかけ. そして, $x\\rightarrow 0$ での極限値を近似せよ. 答えを `f0` という名前の変数に格納せよ.\n",
    "\n",
    "ヒント: もちろん $f(0)$を直接計算しようとすると0での割り算が発生する. そうする代わりにかなり小さな$h > 0$に対して$f(0 + h)$ を計算すれば, 極限値の近似値が求まる. 高校までのやり方と比べるとあまりに簡単な方法\n"
   ]
  },
  {
   "cell_type": "code",
   "execution_count": null,
   "metadata": {
    "kernel": "Python 3",
    "nbgrader": {
     "grade": false,
     "grade_id": "c-006",
     "locked": true,
     "schema_version": 3,
     "solution": false,
     "task": false
    }
   },
   "outputs": [],
   "source": [
    "import math\n",
    "def f(x):\n",
    "    return x / math.sin(x) + math.cos(x)\n",
    "\n",
    "f0 = f(0.001)"
   ]
  },
  {
   "cell_type": "markdown",
   "metadata": {
    "kernel": "Python 3",
    "nbgrader": {
     "grade": false,
     "grade_id": "c-007",
     "locked": true,
     "schema_version": 3,
     "solution": false,
     "task": false
    }
   },
   "source": [
    "* 以下の math.isclose($x$, $y$, rel_tol=1.0e-3) は, xとyの相対誤差 ($|x-y|/\\max(|x|,|y|)$) $< 10^{-3}$のときに真を返す"
   ]
  },
  {
   "cell_type": "code",
   "execution_count": null,
   "metadata": {
    "kernel": "Python 3",
    "nbgrader": {
     "grade": true,
     "grade_id": "p-003",
     "locked": true,
     "points": 1,
     "schema_version": 3,
     "solution": true,
     "task": false
    }
   },
   "outputs": [],
   "source": [
    "BEGIN SOLUTION\n",
    "END SOLUTION\n",
    "# test\n",
    "assert(math.isclose(f0, 2.0, rel_tol=1.0e-3))"
   ]
  },
  {
   "cell_type": "markdown",
   "metadata": {
    "kernel": "Python 3",
    "nbgrader": {
     "grade": false,
     "grade_id": "c-008",
     "locked": true,
     "schema_version": 3,
     "solution": false,
     "task": false
    }
   },
   "source": [
    "\n",
    "# <font color=\"green\"> Problem 4 :  微分係数の計算</font>\n",
    "微分係数の定義:\n",
    "$$ f'(a) = \\lim_{h\\rightarrow 0} \\frac{f(a + h) - f(a)}{h} $$\n",
    "に従えば，$h$を0に近い数(例えば0.001)に対して，\n",
    "$$ f'(a) \\approx \\frac{f(a + h) - f(a)}{h} $$\n",
    "が成り立つ．これを利用して具体的な$a$に対する微分係数の近似値が簡単に計算できる．\n",
    "難しい記号操作をする必要はなく，必要なのは，$f(a)$の値が計算できる事だけである．\n",
    "\n",
    "これを利用して，$\\log x$の，$x = a$における\n",
    "微分係数の近似値を求める関数{\\tt log\\_prime(a)}を書き,\n",
    "自分の知る事実\n",
    "$(\\log x)' \\approx 1/x$であることを, いくつかの$a$に対して確かめてみよ．\n",
    "\n",
    "注: $h$をいくらにすればよいかについてはあまり深く\n",
    "悩む必要はないが以下に注意して適度な値を選ぶ.\n",
    "\n",
    "* $h \\rightarrow 0$での極限を知りたいのだから, 一般的には小さい方がよい\n",
    "* 一方あまり小さくしすぎると, $a + h$の計算が, 計算機が固定の桁数しか表せないことよる「丸め誤差」を起こしてしまい, 逆に誤差が大きくなってしまう (最悪の場合, $a + h = a$になってしまう.  ためしに, $1 + 10^{-16}$ を計算してみよ).  したがって無闇に$h$を小さくすればいいというわけではない.  一般には$a$に比べて$h$が相対的に小さすぎては困る.\n"
   ]
  },
  {
   "cell_type": "code",
   "execution_count": null,
   "metadata": {
    "kernel": "Python 3",
    "nbgrader": {
     "grade": false,
     "grade_id": "c-009",
     "locked": true,
     "schema_version": 3,
     "solution": false,
     "task": false
    }
   },
   "outputs": [],
   "source": [
    "def log_prime(a):\n",
    "    h = a * 0.0001\n",
    "    g = (math.log(a + h) - math.log(a)) / h\n",
    "    return g\n"
   ]
  },
  {
   "cell_type": "code",
   "execution_count": null,
   "metadata": {
    "kernel": "Python 3",
    "nbgrader": {
     "grade": true,
     "grade_id": "p-004",
     "locked": true,
     "points": 1,
     "schema_version": 3,
     "solution": true,
     "task": false
    }
   },
   "outputs": [],
   "source": [
    "BEGIN SOLUTION\n",
    "END SOLUTION\n",
    "# test\n",
    "import math\n",
    "def check_log_prime(a):\n",
    "    return math.isclose(log_prime(a), 1/a, rel_tol=1.0e-3)\n",
    "\n",
    "assert(check_log_prime(1.0))\n",
    "assert(check_log_prime(2.0))\n",
    "assert(check_log_prime(3.0))\n",
    "assert(check_log_prime(0.1))\n",
    "assert(check_log_prime(0.01))\n",
    "assert(check_log_prime(0.001))"
   ]
  }
 ],
 "metadata": {
  "celltoolbar": "Create Assignment",
  "kernelspec": {
   "display_name": "Python 3",
   "language": "python",
   "name": "python3"
  },
  "language_info": {
   "codemirror_mode": {
    "name": "ipython",
    "version": 3
   },
   "file_extension": ".py",
   "mimetype": "text/x-python",
   "name": "python",
   "nbconvert_exporter": "python",
   "pygments_lexer": "ipython3",
   "version": "3.9.4"
  }
 },
 "nbformat": 4,
 "nbformat_minor": 4
}
