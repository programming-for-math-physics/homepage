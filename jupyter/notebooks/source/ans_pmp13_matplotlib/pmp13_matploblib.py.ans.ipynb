{
  "cells": [
    {
      "cell_type": "code",
      "metadata": {
        "kernel": "Python 3",
        "nbgrader": {
          "grade": false,
          "grade_id": "c-001",
          "locked": true,
          "schema_version": 3,
          "solution": false,
          "task": false
        }
      },
      "source": [
        "from vpython import *\n",
        "import math\n",
        "def sun_and_earth_plot():\n",
        "    G = 6.67408e-11             # 万有引力定数\n",
        "    M = 1.98892e30              # 太陽の質量[kg]\n",
        "    m = 5.9742e24               # 地球の質量[kg]\n",
        "    r = 149.6 * 1e9             # 地球と太陽の距離 [m]\n",
        "    x0 = vector(r, 0, 0)        # 初期位置\n",
        "    v0 = vector(0, math.sqrt(G * M / r), 0) # 初速\n",
        "    x = x0                                      # 地球の位置\n",
        "    v = v0\n",
        "    X = []\n",
        "    Y = []\n",
        "    # 1 step = 1 日\n",
        "    dt = 86400\n",
        "    # 365 step = 1 年\n",
        "    for i in range(365 * 3):\n",
        "        dx = - x\n",
        "        a = (G * M / dx.dot(dx)) * dx.norm()\n",
        "        v += a * dt\n",
        "        x += v * dt\n",
        "        X.append(x.x)\n",
        "        Y.append(x.y)\n",
        "    plt.plot(X, Y)\n",
        "    plt.show()\n",
        "\n",
        "sun_and_earth_plot()"
      ],
      "execution_count": null,
      "outputs": []
    }
  ],
  "metadata": {
    "celltoolbar": "Create Assignment",
    "kernelspec": {
      "display_name": "Python 3",
      "language": "python",
      "name": "python3"
    },
    "language_info": {
      "codemirror_mode": {
        "name": "ipython",
        "version": 3
      },
      "file_extension": ".py",
      "mimetype": "text/x-python",
      "name": "python",
      "nbconvert_exporter": "python",
      "pygments_lexer": "ipython3",
      "version": "3.8.5"
    }
  },
  "nbformat": 4,
  "nbformat_minor": 4
}