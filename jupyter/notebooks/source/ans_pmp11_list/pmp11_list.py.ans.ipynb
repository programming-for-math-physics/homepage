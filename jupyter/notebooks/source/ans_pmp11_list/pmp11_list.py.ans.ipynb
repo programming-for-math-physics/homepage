{
  "cells": [
    {
      "cell_type": "code",
      "metadata": {
        "kernel": "Python 3 (ipykernel)",
        "nbgrader": {
          "grade": false,
          "grade_id": "c-001",
          "locked": true,
          "schema_version": 3,
          "solution": false,
          "task": false
        }
      },
      "source": [
        "from vpython import *\n",
        "import math\n",
        "\n",
        "def make_planets(n):\n",
        "    cv = canvas()\n",
        "    X = sphere(pos=vector(0,0,0), color=color.yellow, radius=0.3)\n",
        "    S = []\n",
        "    for i in range(n):\n",
        "        x = vector(2 + i, 0, 0) # 1, ..., 1+0.5*(n-1)\n",
        "        v = vector(0, 1.0/math.sqrt(n), 0)\n",
        "        S.append(sphere(pos=x, vel=v, radius=0.2))\n",
        "    return cv,S\n",
        "\n",
        "def step(S, dt):\n",
        "    for s in S:\n",
        "        dx = - s.pos\n",
        "        r2 = dx.dot(dx)\n",
        "        alpha = dx / (r2 * math.sqrt(r2))\n",
        "        s.vel += alpha * dt\n",
        "        s.pos += s.vel * dt\n",
        "        \n",
        "def sim_planets(n):\n",
        "    cv,S = make_planets(n)\n",
        "    dt = 0.005\n",
        "    for i in range(100000):\n",
        "        step(S, dt)\n",
        "        rate(1/dt)\n",
        "    return cv,S\n",
        "    \n",
        "cv,S = sim_planets(10)"
      ],
      "execution_count": null,
      "outputs": []
    }
  ],
  "metadata": {
    "celltoolbar": "Create Assignment",
    "kernelspec": {
      "display_name": "Python 3 (ipykernel)",
      "language": "python",
      "name": "python3"
    },
    "language_info": {
      "codemirror_mode": {
        "name": "ipython",
        "version": 3
      },
      "file_extension": ".py",
      "mimetype": "text/x-python",
      "name": "python",
      "nbconvert_exporter": "python",
      "pygments_lexer": "ipython3",
      "version": "3.8.10"
    }
  },
  "nbformat": 4,
  "nbformat_minor": 4
}